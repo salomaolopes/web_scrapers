{
 "cells": [
  {
   "cell_type": "code",
   "execution_count": 1,
   "metadata": {},
   "outputs": [
    {
     "data": {
      "text/plain": [
       "'pt_BR.UTF-8'"
      ]
     },
     "execution_count": 1,
     "metadata": {},
     "output_type": "execute_result"
    }
   ],
   "source": [
    "import pandas as pd \n",
    "import numpy as np \n",
    "\n",
    "import requests\n",
    "from bs4 import BeautifulSoup as bs\n",
    "\n",
    "import locale\n",
    "locale.setlocale(locale.LC_ALL, 'pt_BR.UTF-8')"
   ]
  },
  {
   "cell_type": "code",
   "execution_count": 2,
   "metadata": {},
   "outputs": [],
   "source": [
    "URL = 'https://www.vivareal.com.br/venda/distrito-federal/brasilia/bairros/setor-sudoeste/apartamento_residencial/?pagina={}'\n",
    "i = 1\n",
    "retorno = requests.get(URL)\n",
    "soup = bs(retorno.text)"
   ]
  },
  {
   "cell_type": "code",
   "execution_count": 3,
   "metadata": {},
   "outputs": [
    {
     "data": {
      "text/plain": [
       "36"
      ]
     },
     "execution_count": 3,
     "metadata": {},
     "output_type": "execute_result"
    }
   ],
   "source": [
    "objetos_pag = soup.find_all('article', {'class':'property-card__container js-property-card'})\n",
    "len(objetos_pag)\n",
    "\n",
    "#descricao = valor.find('span', {'class': 'property-card__address'}).text.strip()\n",
    "#descricao"
   ]
  },
  {
   "cell_type": "code",
   "execution_count": 4,
   "metadata": {},
   "outputs": [
    {
     "data": {
      "text/plain": [
       "<article class=\"property-card__container js-property-card\" data-see-phone=\"\"> <div class=\"property-card__main-info\"> <div class=\"property-card__main-link\"> <div class=\"property-card__carousel js-property-carousel\"> <a class=\"property-card__labels-container js-main-info js-listing-labels-link\" href=\"/imovel/apartamento-4-quartos-setor-sudoeste-bairros-brasilia-com-garagem-146m2-venda-RS2200000-id-2542005292/\"> <div class=\"property-card__inactive-listing\">Indisponível</div> <div class=\"property-card__already-seen\">Visualizado</div> </a> <div class=\"carousel__container js-carousel-scroll\" style=\"width: calc(5 * 100%);\"> <div class=\"carousel__item-wrapper js-carousel-item-wrapper\"> <img alt=\"Apartamento com 4 Quartos à venda, 146m²\" class=\"carousel__image js-carousel-image lazyload\" data-src=\"https://resizedimgs.vivareal.com/crop/286x200/vr.images.sp/b53ff5454ff66192c2aeb0a879fa382c.jpg\" data-src-loaded=\"small\" src=\"https://cdn1.vivareal.com/p/1-98f9a2f/v/static/app/img/pixel.png\"/> </div> <div class=\"carousel__item-wrapper js-carousel-item-wrapper\"> <img alt=\"Apartamento com 4 Quartos à venda, 146m²\" class=\"carousel__image js-carousel-image\" data-src=\"https://resizedimgs.vivareal.com/{action}/{width}x{height}/vr.images.sp/d617cf2af0d4a2907fba5e92f218c160.jpg\" src=\"https://cdn1.vivareal.com/p/1-98f9a2f/v/static/app/img/pixel.png\"/> </div> <div class=\"carousel__item-wrapper js-carousel-item-wrapper\"> <img alt=\"Apartamento com 4 Quartos à venda, 146m²\" class=\"carousel__image js-carousel-image\" data-src=\"https://resizedimgs.vivareal.com/{action}/{width}x{height}/vr.images.sp/d9d4079bab2021a3bae9c981793b3ae9.jpg\" src=\"https://cdn1.vivareal.com/p/1-98f9a2f/v/static/app/img/pixel.png\"/> </div> <div class=\"carousel__item-wrapper js-carousel-item-wrapper\"> <img alt=\"Apartamento com 4 Quartos à venda, 146m²\" class=\"carousel__image js-carousel-image\" data-src=\"https://resizedimgs.vivareal.com/{action}/{width}x{height}/vr.images.sp/c34e1c03845df75fff53da6a55794117.jpg\" src=\"https://cdn1.vivareal.com/p/1-98f9a2f/v/static/app/img/pixel.png\"/> </div> <div class=\"carousel__item-wrapper js-carousel-item-wrapper\"> <img alt=\"Apartamento com 4 Quartos à venda, 146m²\" class=\"carousel__image js-carousel-image\" data-src=\"https://resizedimgs.vivareal.com/{action}/{width}x{height}/vr.images.sp/d2a56f3866925732405339fe17a59e4e.jpg\" src=\"https://cdn1.vivareal.com/p/1-98f9a2f/v/static/app/img/pixel.png\"/> <div class=\"carousel__see-more\"> <span class=\"see-more__count\">+ 16 fotos</span> </div> </div> </div> <div class=\"carousel__navigation js-carousel-navigation\"> <div class=\"carousel__prev js-carousel-prev\"></div> <div class=\"carousel__next js-carousel-next\"></div> </div> <div class=\"carousel__navigation-bullets js-carousel-navigation-bullets\"> <div class=\"bullets__item js-bullets-item\" data-index=\"0\"></div> <div class=\"bullets__item js-bullets-item\" data-index=\"1\"></div> <div class=\"bullets__item js-bullets-item\" data-index=\"2\"></div> <div class=\"bullets__item js-bullets-item\" data-index=\"3\"></div> <div class=\"bullets__item js-bullets-item\" data-index=\"4\"></div> </div> </div> </div> </div> <a class=\"property-card__content-link js-card-title\" href=\"/imovel/apartamento-4-quartos-setor-sudoeste-bairros-brasilia-com-garagem-146m2-venda-RS2200000-id-2542005292/\"> <div class=\"property-card__content\"> <h2 class=\"property-card__header\"> <span class=\"property-card__title js-cardLink js-card-title\">  Apartamento com 4 Quartos à Venda, 146m²  </span> <span class=\"property-card__address-container js-property-card-address js-see-on-map\"> <span class=\"property-card__address\">SQSW 300 Bloco B, 506 - Setor Sudoeste, Brasília - DF</span> <span class=\"property-card__map-link\"> ver mapa </span> </span> </h2> <ul class=\"property-card__details\"> <li class=\"property-card__detail-item property-card__detail-area\"> <span class=\"property-card__detail-value js-property-card-value property-card__detail-area js-property-card-detail-area\"> 146 </span> <span class=\"property-card__detail-text js-property-card-detail-text\"> m² </span> </li> <li class=\"property-card__detail-item property-card__detail-room js-property-detail-rooms\"> <span class=\"property-card__detail-value js-property-card-value\"> 4 </span> <span class=\"property-card__detail-text js-property-card-detail-text\"> Quartos </span> </li> <li class=\"property-card__detail-item property-card__detail-bathroom js-property-detail-bathroom\"> <span class=\"property-card__detail-value js-property-card-value\"> 5 </span> <span class=\"property-card__detail-text js-property-card-detail-text\"> Banheiros </span> </li> <li class=\"property-card__detail-item property-card__detail-garage js-property-detail-garages\"> <span class=\"property-card__detail-value js-property-card-value\"> 2 </span> <span class=\"property-card__detail-text js-property-card-detail-text\"> Vagas </span> </li> </ul> <ul class=\"property-card__amenities\"> <li class=\"amenities__item\" title=\"Piscina\">Piscina</li> <li class=\"amenities__item\" title=\"Churrasqueira\">Churrasqueira</li> <li class=\"amenities__item\" title=\"Elevador\">Elevador</li> <li class=\"amenities__item\" title=\"Academia\">Academia</li> <li class=\"amenities__item\" title=\"Aceita animais\">Aceita animais</li> <li class=\"amenities__item\">...</li> </ul> <section class=\"property-card__values\"> <div class=\"property-card__price js-property-card-prices js-property-card__price-small\"> <p style=\"display: block;\">  R$ 2.200.000  </p> </div> <footer class=\"property-card__price-details\"> <div class=\"property-card__price-details--condo\"> Condomínio: <strong class=\"js-condo-price\">  R$ 1.200  </strong> </div> </footer> </section> </div> </a> <div class=\"property-card__actions\"> <button class=\"property-card__button property-card__button--phone js-phone-lead\">Telefone</button> <button class=\"property-card__button property-card__button--message js-contact-lead\"> <span>Mensagem</span> </button> <button class=\"property-card__button property-card__button--whatsapp js-whatsapp-lead\">Whatsapp</button> </div> <picture class=\"property-card__account-link js-property-card-account-link\"> <img alt=\"ALFREDO MARTINS REIS\" class=\"lazyload\" data-src=\"https://cdn1.vivareal.com/p/1-98f9a2f/v/static/app/img/publisher-undefined.png\" src=\"https://cdn1.vivareal.com/p/1-98f9a2f/v/static/app/img/pixel.png\"/> </picture> </article>"
      ]
     },
     "execution_count": 4,
     "metadata": {},
     "output_type": "execute_result"
    }
   ],
   "source": [
    "objeto = objetos_pag[0]\n",
    "objeto"
   ]
  },
  {
   "cell_type": "code",
   "execution_count": 5,
   "metadata": {},
   "outputs": [
    {
     "name": "stdout",
     "output_type": "stream",
     "text": [
      "64.0\n",
      "Apartamento com 4 Quartos à Venda, 146m²\n",
      "SQSW 300 Bloco B, 506 - Setor Sudoeste, Brasília - DF\n",
      "146\n",
      "4\n",
      "5\n",
      "2\n",
      "R$ 2.200.000\n",
      "R$ 1.200\n"
     ]
    }
   ],
   "source": [
    "qtd_imoveis = float(soup.find('strong', {'class':'results-summary__count js-total-records'}).text.replace('.',''))\n",
    "descricao = soup.find('span', {'class': 'property-card__title js-cardLink js-card-title'}).text.strip()\n",
    "endereco = soup.find('span', {'class': 'property-card__address'}).text.strip()\n",
    "metragem = int(soup.find('li', {'class': 'property-card__detail-item property-card__detail-area'}).span.text.strip())\n",
    "quartos = int(soup.find('li', {'class': 'property-card__detail-room'}).span.text.strip())\n",
    "banheiro = int(soup.find('li',{'class': 'property-card__detail-bathroom'}).span.text.strip())\n",
    "vagas = int(soup.find('li',{'class': 'property-card__detail-garage'}).span.text.strip())\n",
    "valor = soup.find(class_='property-card__price js-property-card-prices js-property-card__price-small').text.strip()\n",
    "condominio = soup.find('strong', {'class':'js-condo-price'}).text.strip()\n",
    "\n",
    "print(qtd_imoveis)\n",
    "print(descricao)\n",
    "print(endereco)\n",
    "print(metragem)\n",
    "print(quartos)\n",
    "print(banheiro)\n",
    "print(vagas)\n",
    "print(valor)\n",
    "print(condominio)"
   ]
  },
  {
   "cell_type": "code",
   "execution_count": 6,
   "metadata": {},
   "outputs": [],
   "source": [
    "df = pd.DataFrame(columns=[\n",
    "    'descricao',\n",
    "    'endereco',\n",
    "    'metragem',\n",
    "    'quartos',\n",
    "    'banheiro',\n",
    "    'vagas',\n",
    "    'valor',\n",
    "    'condominio',\n",
    "])\n",
    "\n",
    "i = 0"
   ]
  },
  {
   "cell_type": "code",
   "execution_count": 7,
   "metadata": {},
   "outputs": [
    {
     "data": {
      "text/plain": [
       "Index(['descricao', 'endereco', 'metragem', 'quartos', 'banheiro', 'vagas',\n",
       "       'valor', 'condominio'],\n",
       "      dtype='object')"
      ]
     },
     "execution_count": 7,
     "metadata": {},
     "output_type": "execute_result"
    }
   ],
   "source": [
    "df.columns"
   ]
  },
  {
   "cell_type": "code",
   "execution_count": 8,
   "metadata": {},
   "outputs": [
    {
     "data": {
      "text/plain": [
       "64.0"
      ]
     },
     "execution_count": 8,
     "metadata": {},
     "output_type": "execute_result"
    }
   ],
   "source": [
    "qtd_imoveis"
   ]
  },
  {
   "cell_type": "code",
   "execution_count": 9,
   "metadata": {},
   "outputs": [
    {
     "name": "stdout",
     "output_type": "stream",
     "text": [
      "valor i: 1 \t\t qtd_imoveis: 0\n",
      "valor i: 2 \t\t qtd_imoveis: 36\n"
     ]
    }
   ],
   "source": [
    "\n",
    "while qtd_imoveis > df.shape[0]:\n",
    "    \n",
    "    i += 1\n",
    "    print(f\"valor i: {i} \\t\\t qtd_imoveis: {df.shape[0]}\")\n",
    "    ret = requests.get(URL.format(i))\n",
    "    soup = bs(ret.text)\n",
    "\n",
    "    final = soup.find_all('article', {'class':'property-card__container js-property-card'})\n",
    "\n",
    "    for objeto in final:\n",
    "        try:\n",
    "            descricao = objeto.find('span', {'class': 'property-card__title js-cardLink js-card-title'}).text.strip()\n",
    "        except: \n",
    "            descricao = None\n",
    "        try:\n",
    "            endereco = objeto.find('span', {'class': 'property-card__address'}).text.strip()\n",
    "        except: \n",
    "            endereco = None\n",
    "        try:\n",
    "            metragem = int(objeto.find('li', {'class': 'property-card__detail-item property-card__detail-area'}).span.text.strip())\n",
    "        except:\n",
    "            metragem = None\n",
    "        try:\n",
    "            quartos = int(objeto.find('li', {'class': 'property-card__detail-room'}).span.text.strip())\n",
    "        except: \n",
    "            quartos = None\n",
    "        try: \n",
    "            banheiro = int(objeto.find('li',{'class': 'property-card__detail-bathroom'}).span.text.strip())\n",
    "        except:\n",
    "            banheiro = None\n",
    "        try:\n",
    "            vagas = int(objeto.find('li',{'class': 'property-card__detail-garage'}).span.text.strip())\n",
    "        except:\n",
    "            vagas = None\n",
    "        try:\n",
    "            valor = objeto.find(class_='property-card__price js-property-card-prices js-property-card__price-small').text.strip()\n",
    "        except:\n",
    "            valor = None\n",
    "        try:\n",
    "            condominio = objeto.find('strong', {'class':'js-condo-price'}).text.strip()\n",
    "        except:\n",
    "            condominio = None\n",
    "            \n",
    "        df.loc[df.shape[0]] = [\n",
    "            descricao,\n",
    "            endereco,\n",
    "            metragem,\n",
    "            quartos,\n",
    "            banheiro,\n",
    "            vagas,\n",
    "            valor,\n",
    "            condominio\n",
    "        ]      "
   ]
  },
  {
   "cell_type": "code",
   "execution_count": 10,
   "metadata": {},
   "outputs": [
    {
     "data": {
      "text/html": [
       "<div>\n",
       "<style scoped>\n",
       "    .dataframe tbody tr th:only-of-type {\n",
       "        vertical-align: middle;\n",
       "    }\n",
       "\n",
       "    .dataframe tbody tr th {\n",
       "        vertical-align: top;\n",
       "    }\n",
       "\n",
       "    .dataframe thead th {\n",
       "        text-align: right;\n",
       "    }\n",
       "</style>\n",
       "<table border=\"1\" class=\"dataframe\">\n",
       "  <thead>\n",
       "    <tr style=\"text-align: right;\">\n",
       "      <th></th>\n",
       "      <th>descricao</th>\n",
       "      <th>endereco</th>\n",
       "      <th>metragem</th>\n",
       "      <th>quartos</th>\n",
       "      <th>banheiro</th>\n",
       "      <th>vagas</th>\n",
       "      <th>valor</th>\n",
       "      <th>condominio</th>\n",
       "    </tr>\n",
       "  </thead>\n",
       "  <tbody>\n",
       "    <tr>\n",
       "      <th>0</th>\n",
       "      <td>Apartamento com 4 Quartos à Venda, 146m²</td>\n",
       "      <td>SQSW 300 Bloco B, 506 - Setor Sudoeste, Brasíl...</td>\n",
       "      <td>146</td>\n",
       "      <td>4</td>\n",
       "      <td>5</td>\n",
       "      <td>2</td>\n",
       "      <td>R$ 2.200.000</td>\n",
       "      <td>R$ 1.200</td>\n",
       "    </tr>\n",
       "    <tr>\n",
       "      <th>1</th>\n",
       "      <td>Venice</td>\n",
       "      <td>SGCV - Zona Industrial, Brasília - DF</td>\n",
       "      <td>26</td>\n",
       "      <td>1</td>\n",
       "      <td>None</td>\n",
       "      <td>1</td>\n",
       "      <td>R$ 386.945</td>\n",
       "      <td>None</td>\n",
       "    </tr>\n",
       "    <tr>\n",
       "      <th>2</th>\n",
       "      <td>Apartamento com 2 Quartos à Venda, 58m²</td>\n",
       "      <td>QRSW 2, 0 - Setor Sudoeste, Brasília - DF</td>\n",
       "      <td>58</td>\n",
       "      <td>2</td>\n",
       "      <td>1</td>\n",
       "      <td>None</td>\n",
       "      <td>R$ 690.000</td>\n",
       "      <td>R$ 500</td>\n",
       "    </tr>\n",
       "    <tr>\n",
       "      <th>3</th>\n",
       "      <td>Apartamento com 4 Quartos à Venda, 257m²</td>\n",
       "      <td>SQSW 300 Bloco J, 0 - Setor Sudoeste, Brasília...</td>\n",
       "      <td>257</td>\n",
       "      <td>4</td>\n",
       "      <td>5</td>\n",
       "      <td>3</td>\n",
       "      <td>R$ 3.690.000</td>\n",
       "      <td>R$ 1.400</td>\n",
       "    </tr>\n",
       "    <tr>\n",
       "      <th>4</th>\n",
       "      <td>Apartamento com 3 Quartos à Venda, 151m²</td>\n",
       "      <td>SQSW 301 Bloco I - Setor Sudoeste, Brasília - DF</td>\n",
       "      <td>151</td>\n",
       "      <td>3</td>\n",
       "      <td>4</td>\n",
       "      <td>2</td>\n",
       "      <td>R$ 1.850.000</td>\n",
       "      <td>None</td>\n",
       "    </tr>\n",
       "    <tr>\n",
       "      <th>5</th>\n",
       "      <td>Apartamento com 2 Quartos à Venda, 61m²</td>\n",
       "      <td>Setor Sudoeste, Brasília - DF</td>\n",
       "      <td>61</td>\n",
       "      <td>2</td>\n",
       "      <td>2</td>\n",
       "      <td>1</td>\n",
       "      <td>R$ 899.000</td>\n",
       "      <td>R$ 640</td>\n",
       "    </tr>\n",
       "    <tr>\n",
       "      <th>6</th>\n",
       "      <td>Apartamento com 3 Quartos à Venda, 173m²</td>\n",
       "      <td>Setor Sudoeste, Brasília - DF</td>\n",
       "      <td>173</td>\n",
       "      <td>3</td>\n",
       "      <td>4</td>\n",
       "      <td>2</td>\n",
       "      <td>R$ 2.415.000</td>\n",
       "      <td>R$ 1.200</td>\n",
       "    </tr>\n",
       "    <tr>\n",
       "      <th>7</th>\n",
       "      <td>Apartamento com 5 Quartos à Venda, 256m²</td>\n",
       "      <td>SQSW 102 Bloco B, 2 - Setor Sudoeste, Brasília...</td>\n",
       "      <td>256</td>\n",
       "      <td>5</td>\n",
       "      <td>3</td>\n",
       "      <td>2</td>\n",
       "      <td>R$ 3.000.000</td>\n",
       "      <td>R$ 2.500</td>\n",
       "    </tr>\n",
       "    <tr>\n",
       "      <th>8</th>\n",
       "      <td>Parque das Figueiras</td>\n",
       "      <td>SQNW 103 Bloco G, SQNW 103 - Setor Noroeste, B...</td>\n",
       "      <td>102</td>\n",
       "      <td>3</td>\n",
       "      <td>4</td>\n",
       "      <td>2</td>\n",
       "      <td>R$ 1.525.100</td>\n",
       "      <td>None</td>\n",
       "    </tr>\n",
       "    <tr>\n",
       "      <th>9</th>\n",
       "      <td>Apartamento com  Quarto à Venda, 31m²</td>\n",
       "      <td>Setor Sudoeste, Brasília - DF</td>\n",
       "      <td>31</td>\n",
       "      <td>1</td>\n",
       "      <td>1</td>\n",
       "      <td>None</td>\n",
       "      <td>R$ 255.000</td>\n",
       "      <td>None</td>\n",
       "    </tr>\n",
       "    <tr>\n",
       "      <th>10</th>\n",
       "      <td>Apartamento com 4 Quartos à Venda, 285m²</td>\n",
       "      <td>CCSW 1 - Setor Sudoeste, Brasília - DF</td>\n",
       "      <td>285</td>\n",
       "      <td>4</td>\n",
       "      <td>5</td>\n",
       "      <td>4</td>\n",
       "      <td>R$ 2.200.000</td>\n",
       "      <td>None</td>\n",
       "    </tr>\n",
       "    <tr>\n",
       "      <th>11</th>\n",
       "      <td>Apartamento com 4 Quartos à Venda, 172m²</td>\n",
       "      <td>QMSW 5, 0 - Setor Sudoeste, Brasília - DF</td>\n",
       "      <td>172</td>\n",
       "      <td>4</td>\n",
       "      <td>6</td>\n",
       "      <td>3</td>\n",
       "      <td>R$ 2.600.000</td>\n",
       "      <td>None</td>\n",
       "    </tr>\n",
       "    <tr>\n",
       "      <th>12</th>\n",
       "      <td>Apartamento com 3 Quartos à Venda, 94m²</td>\n",
       "      <td>Setor Sudoeste, Brasília - DF</td>\n",
       "      <td>94</td>\n",
       "      <td>3</td>\n",
       "      <td>3</td>\n",
       "      <td>1</td>\n",
       "      <td>R$ 1.200.000</td>\n",
       "      <td>R$ 790</td>\n",
       "    </tr>\n",
       "    <tr>\n",
       "      <th>13</th>\n",
       "      <td>Apartamento com 4 Quartos à Venda, 244m²</td>\n",
       "      <td>SQSW 500, 7 - Setor Sudoeste, Brasília - DF</td>\n",
       "      <td>244</td>\n",
       "      <td>4</td>\n",
       "      <td>6</td>\n",
       "      <td>4</td>\n",
       "      <td>R$ 3.455.327</td>\n",
       "      <td>None</td>\n",
       "    </tr>\n",
       "    <tr>\n",
       "      <th>14</th>\n",
       "      <td>Apartamento com 4 Quartos à Venda, 179m²</td>\n",
       "      <td>SQSW 500, 9 - Setor Sudoeste, Brasília - DF</td>\n",
       "      <td>179</td>\n",
       "      <td>4</td>\n",
       "      <td>6</td>\n",
       "      <td>3</td>\n",
       "      <td>R$ 2.936.069</td>\n",
       "      <td>None</td>\n",
       "    </tr>\n",
       "    <tr>\n",
       "      <th>15</th>\n",
       "      <td>Residencial Topázio</td>\n",
       "      <td>SQSW 500 Bloco R, - - Setor Sudoeste, Brasília...</td>\n",
       "      <td>139</td>\n",
       "      <td>3</td>\n",
       "      <td>5</td>\n",
       "      <td>3</td>\n",
       "      <td>R$ 2.370.241</td>\n",
       "      <td>None</td>\n",
       "    </tr>\n",
       "    <tr>\n",
       "      <th>16</th>\n",
       "      <td>Apartamento com 2 Quartos à Venda, 77m²</td>\n",
       "      <td>SQSW 105 Bloco D, 1 - Setor Sudoeste, Brasília...</td>\n",
       "      <td>77</td>\n",
       "      <td>2</td>\n",
       "      <td>3</td>\n",
       "      <td>1</td>\n",
       "      <td>R$ 877.000</td>\n",
       "      <td>R$ 1.100</td>\n",
       "    </tr>\n",
       "    <tr>\n",
       "      <th>17</th>\n",
       "      <td>Apartamento com 3 Quartos à Venda, 105m²</td>\n",
       "      <td>Setor Sudoeste, Brasília - DF</td>\n",
       "      <td>105</td>\n",
       "      <td>3</td>\n",
       "      <td>2</td>\n",
       "      <td>2</td>\n",
       "      <td>R$ 1.699.994</td>\n",
       "      <td>R$ 1.100</td>\n",
       "    </tr>\n",
       "    <tr>\n",
       "      <th>18</th>\n",
       "      <td>Apartamento com 4 Quartos à Venda, 194m²</td>\n",
       "      <td>Setor Sudoeste, Brasília - DF</td>\n",
       "      <td>194</td>\n",
       "      <td>4</td>\n",
       "      <td>5</td>\n",
       "      <td>2</td>\n",
       "      <td>R$ 2.290.000</td>\n",
       "      <td>R$ 2.230</td>\n",
       "    </tr>\n",
       "    <tr>\n",
       "      <th>19</th>\n",
       "      <td>Apartamento com 2 Quartos à Venda, 99m²</td>\n",
       "      <td>Setor Sudoeste, Brasília - DF</td>\n",
       "      <td>99</td>\n",
       "      <td>2</td>\n",
       "      <td>2</td>\n",
       "      <td>1</td>\n",
       "      <td>R$ 850.000</td>\n",
       "      <td>R$ 800</td>\n",
       "    </tr>\n",
       "  </tbody>\n",
       "</table>\n",
       "</div>"
      ],
      "text/plain": [
       "                                   descricao  \\\n",
       "0   Apartamento com 4 Quartos à Venda, 146m²   \n",
       "1                                     Venice   \n",
       "2    Apartamento com 2 Quartos à Venda, 58m²   \n",
       "3   Apartamento com 4 Quartos à Venda, 257m²   \n",
       "4   Apartamento com 3 Quartos à Venda, 151m²   \n",
       "5    Apartamento com 2 Quartos à Venda, 61m²   \n",
       "6   Apartamento com 3 Quartos à Venda, 173m²   \n",
       "7   Apartamento com 5 Quartos à Venda, 256m²   \n",
       "8                       Parque das Figueiras   \n",
       "9      Apartamento com  Quarto à Venda, 31m²   \n",
       "10  Apartamento com 4 Quartos à Venda, 285m²   \n",
       "11  Apartamento com 4 Quartos à Venda, 172m²   \n",
       "12   Apartamento com 3 Quartos à Venda, 94m²   \n",
       "13  Apartamento com 4 Quartos à Venda, 244m²   \n",
       "14  Apartamento com 4 Quartos à Venda, 179m²   \n",
       "15                       Residencial Topázio   \n",
       "16   Apartamento com 2 Quartos à Venda, 77m²   \n",
       "17  Apartamento com 3 Quartos à Venda, 105m²   \n",
       "18  Apartamento com 4 Quartos à Venda, 194m²   \n",
       "19   Apartamento com 2 Quartos à Venda, 99m²   \n",
       "\n",
       "                                             endereco  metragem  quartos  \\\n",
       "0   SQSW 300 Bloco B, 506 - Setor Sudoeste, Brasíl...       146        4   \n",
       "1               SGCV - Zona Industrial, Brasília - DF        26        1   \n",
       "2           QRSW 2, 0 - Setor Sudoeste, Brasília - DF        58        2   \n",
       "3   SQSW 300 Bloco J, 0 - Setor Sudoeste, Brasília...       257        4   \n",
       "4    SQSW 301 Bloco I - Setor Sudoeste, Brasília - DF       151        3   \n",
       "5                       Setor Sudoeste, Brasília - DF        61        2   \n",
       "6                       Setor Sudoeste, Brasília - DF       173        3   \n",
       "7   SQSW 102 Bloco B, 2 - Setor Sudoeste, Brasília...       256        5   \n",
       "8   SQNW 103 Bloco G, SQNW 103 - Setor Noroeste, B...       102        3   \n",
       "9                       Setor Sudoeste, Brasília - DF        31        1   \n",
       "10             CCSW 1 - Setor Sudoeste, Brasília - DF       285        4   \n",
       "11          QMSW 5, 0 - Setor Sudoeste, Brasília - DF       172        4   \n",
       "12                      Setor Sudoeste, Brasília - DF        94        3   \n",
       "13        SQSW 500, 7 - Setor Sudoeste, Brasília - DF       244        4   \n",
       "14        SQSW 500, 9 - Setor Sudoeste, Brasília - DF       179        4   \n",
       "15  SQSW 500 Bloco R, - - Setor Sudoeste, Brasília...       139        3   \n",
       "16  SQSW 105 Bloco D, 1 - Setor Sudoeste, Brasília...        77        2   \n",
       "17                      Setor Sudoeste, Brasília - DF       105        3   \n",
       "18                      Setor Sudoeste, Brasília - DF       194        4   \n",
       "19                      Setor Sudoeste, Brasília - DF        99        2   \n",
       "\n",
       "   banheiro vagas         valor condominio  \n",
       "0         5     2  R$ 2.200.000   R$ 1.200  \n",
       "1      None     1    R$ 386.945       None  \n",
       "2         1  None    R$ 690.000     R$ 500  \n",
       "3         5     3  R$ 3.690.000   R$ 1.400  \n",
       "4         4     2  R$ 1.850.000       None  \n",
       "5         2     1    R$ 899.000     R$ 640  \n",
       "6         4     2  R$ 2.415.000   R$ 1.200  \n",
       "7         3     2  R$ 3.000.000   R$ 2.500  \n",
       "8         4     2  R$ 1.525.100       None  \n",
       "9         1  None    R$ 255.000       None  \n",
       "10        5     4  R$ 2.200.000       None  \n",
       "11        6     3  R$ 2.600.000       None  \n",
       "12        3     1  R$ 1.200.000     R$ 790  \n",
       "13        6     4  R$ 3.455.327       None  \n",
       "14        6     3  R$ 2.936.069       None  \n",
       "15        5     3  R$ 2.370.241       None  \n",
       "16        3     1    R$ 877.000   R$ 1.100  \n",
       "17        2     2  R$ 1.699.994   R$ 1.100  \n",
       "18        5     2  R$ 2.290.000   R$ 2.230  \n",
       "19        2     1    R$ 850.000     R$ 800  "
      ]
     },
     "execution_count": 10,
     "metadata": {},
     "output_type": "execute_result"
    }
   ],
   "source": [
    "df.head(20)"
   ]
  },
  {
   "cell_type": "code",
   "execution_count": 11,
   "metadata": {},
   "outputs": [
    {
     "data": {
      "text/html": [
       "<div>\n",
       "<style scoped>\n",
       "    .dataframe tbody tr th:only-of-type {\n",
       "        vertical-align: middle;\n",
       "    }\n",
       "\n",
       "    .dataframe tbody tr th {\n",
       "        vertical-align: top;\n",
       "    }\n",
       "\n",
       "    .dataframe thead th {\n",
       "        text-align: right;\n",
       "    }\n",
       "</style>\n",
       "<table border=\"1\" class=\"dataframe\">\n",
       "  <thead>\n",
       "    <tr style=\"text-align: right;\">\n",
       "      <th></th>\n",
       "      <th>descricao</th>\n",
       "      <th>endereco</th>\n",
       "      <th>metragem</th>\n",
       "      <th>quartos</th>\n",
       "      <th>banheiro</th>\n",
       "      <th>vagas</th>\n",
       "      <th>valor</th>\n",
       "      <th>condominio</th>\n",
       "    </tr>\n",
       "  </thead>\n",
       "  <tbody>\n",
       "    <tr>\n",
       "      <th>0</th>\n",
       "      <td>Apartamento com 4 Quartos à Venda, 146m²</td>\n",
       "      <td>SQSW 300 Bloco B, 506 - Setor Sudoeste, Brasíl...</td>\n",
       "      <td>146</td>\n",
       "      <td>4</td>\n",
       "      <td>5</td>\n",
       "      <td>2</td>\n",
       "      <td>2.200.000</td>\n",
       "      <td>1.200</td>\n",
       "    </tr>\n",
       "    <tr>\n",
       "      <th>1</th>\n",
       "      <td>Venice</td>\n",
       "      <td>SGCV - Zona Industrial, Brasília - DF</td>\n",
       "      <td>26</td>\n",
       "      <td>1</td>\n",
       "      <td>None</td>\n",
       "      <td>1</td>\n",
       "      <td>386.945</td>\n",
       "      <td>0.0</td>\n",
       "    </tr>\n",
       "    <tr>\n",
       "      <th>2</th>\n",
       "      <td>Apartamento com 2 Quartos à Venda, 58m²</td>\n",
       "      <td>QRSW 2, 0 - Setor Sudoeste, Brasília - DF</td>\n",
       "      <td>58</td>\n",
       "      <td>2</td>\n",
       "      <td>1</td>\n",
       "      <td>None</td>\n",
       "      <td>690.000</td>\n",
       "      <td>500</td>\n",
       "    </tr>\n",
       "    <tr>\n",
       "      <th>3</th>\n",
       "      <td>Apartamento com 4 Quartos à Venda, 257m²</td>\n",
       "      <td>SQSW 300 Bloco J, 0 - Setor Sudoeste, Brasília...</td>\n",
       "      <td>257</td>\n",
       "      <td>4</td>\n",
       "      <td>5</td>\n",
       "      <td>3</td>\n",
       "      <td>3.690.000</td>\n",
       "      <td>1.400</td>\n",
       "    </tr>\n",
       "    <tr>\n",
       "      <th>4</th>\n",
       "      <td>Apartamento com 3 Quartos à Venda, 151m²</td>\n",
       "      <td>SQSW 301 Bloco I - Setor Sudoeste, Brasília - DF</td>\n",
       "      <td>151</td>\n",
       "      <td>3</td>\n",
       "      <td>4</td>\n",
       "      <td>2</td>\n",
       "      <td>1.850.000</td>\n",
       "      <td>0.0</td>\n",
       "    </tr>\n",
       "  </tbody>\n",
       "</table>\n",
       "</div>"
      ],
      "text/plain": [
       "                                  descricao  \\\n",
       "0  Apartamento com 4 Quartos à Venda, 146m²   \n",
       "1                                    Venice   \n",
       "2   Apartamento com 2 Quartos à Venda, 58m²   \n",
       "3  Apartamento com 4 Quartos à Venda, 257m²   \n",
       "4  Apartamento com 3 Quartos à Venda, 151m²   \n",
       "\n",
       "                                            endereco  metragem  quartos  \\\n",
       "0  SQSW 300 Bloco B, 506 - Setor Sudoeste, Brasíl...       146        4   \n",
       "1              SGCV - Zona Industrial, Brasília - DF        26        1   \n",
       "2          QRSW 2, 0 - Setor Sudoeste, Brasília - DF        58        2   \n",
       "3  SQSW 300 Bloco J, 0 - Setor Sudoeste, Brasília...       257        4   \n",
       "4   SQSW 301 Bloco I - Setor Sudoeste, Brasília - DF       151        3   \n",
       "\n",
       "  banheiro vagas      valor condominio  \n",
       "0        5     2  2.200.000      1.200  \n",
       "1     None     1    386.945        0.0  \n",
       "2        1  None    690.000        500  \n",
       "3        5     3  3.690.000      1.400  \n",
       "4        4     2  1.850.000        0.0  "
      ]
     },
     "execution_count": 11,
     "metadata": {},
     "output_type": "execute_result"
    }
   ],
   "source": [
    "\n",
    "df['valor'] = df['valor'].apply(lambda x: x.replace('R$','').strip())\n",
    "df['condominio'] = df['condominio'].replace(np.nan, 'R$ 0.0')\n",
    "df['condominio'] = df['condominio'].apply(lambda x: x.replace('R$','').strip())\n",
    "#df['condominio'] = df['condominio'].apply(lambda x: x.replace('R$','').strip())\n",
    "\n",
    "df.head()"
   ]
  },
  {
   "cell_type": "code",
   "execution_count": 12,
   "metadata": {},
   "outputs": [
    {
     "data": {
      "text/plain": [
       "descricao     object\n",
       "endereco      object\n",
       "metragem       int64\n",
       "quartos        int64\n",
       "banheiro      object\n",
       "vagas         object\n",
       "valor         object\n",
       "condominio    object\n",
       "dtype: object"
      ]
     },
     "execution_count": 12,
     "metadata": {},
     "output_type": "execute_result"
    }
   ],
   "source": [
    "df.dtypes"
   ]
  },
  {
   "cell_type": "code",
   "execution_count": 13,
   "metadata": {},
   "outputs": [
    {
     "data": {
      "text/html": [
       "<div>\n",
       "<style scoped>\n",
       "    .dataframe tbody tr th:only-of-type {\n",
       "        vertical-align: middle;\n",
       "    }\n",
       "\n",
       "    .dataframe tbody tr th {\n",
       "        vertical-align: top;\n",
       "    }\n",
       "\n",
       "    .dataframe thead th {\n",
       "        text-align: right;\n",
       "    }\n",
       "</style>\n",
       "<table border=\"1\" class=\"dataframe\">\n",
       "  <thead>\n",
       "    <tr style=\"text-align: right;\">\n",
       "      <th></th>\n",
       "      <th>descricao</th>\n",
       "      <th>endereco</th>\n",
       "      <th>metragem</th>\n",
       "      <th>quartos</th>\n",
       "      <th>banheiro</th>\n",
       "      <th>vagas</th>\n",
       "      <th>valor</th>\n",
       "      <th>condominio</th>\n",
       "    </tr>\n",
       "  </thead>\n",
       "  <tbody>\n",
       "    <tr>\n",
       "      <th>0</th>\n",
       "      <td>Apartamento com 4 Quartos à Venda, 146m²</td>\n",
       "      <td>SQSW 300 Bloco B, 506 - Setor Sudoeste, Brasíl...</td>\n",
       "      <td>146</td>\n",
       "      <td>4</td>\n",
       "      <td>5</td>\n",
       "      <td>2</td>\n",
       "      <td>2200000.0</td>\n",
       "      <td>1200.0</td>\n",
       "    </tr>\n",
       "    <tr>\n",
       "      <th>1</th>\n",
       "      <td>Venice</td>\n",
       "      <td>SGCV - Zona Industrial, Brasília - DF</td>\n",
       "      <td>26</td>\n",
       "      <td>1</td>\n",
       "      <td>None</td>\n",
       "      <td>1</td>\n",
       "      <td>386945.0</td>\n",
       "      <td>0.0</td>\n",
       "    </tr>\n",
       "    <tr>\n",
       "      <th>2</th>\n",
       "      <td>Apartamento com 2 Quartos à Venda, 58m²</td>\n",
       "      <td>QRSW 2, 0 - Setor Sudoeste, Brasília - DF</td>\n",
       "      <td>58</td>\n",
       "      <td>2</td>\n",
       "      <td>1</td>\n",
       "      <td>None</td>\n",
       "      <td>690000.0</td>\n",
       "      <td>500.0</td>\n",
       "    </tr>\n",
       "    <tr>\n",
       "      <th>3</th>\n",
       "      <td>Apartamento com 4 Quartos à Venda, 257m²</td>\n",
       "      <td>SQSW 300 Bloco J, 0 - Setor Sudoeste, Brasília...</td>\n",
       "      <td>257</td>\n",
       "      <td>4</td>\n",
       "      <td>5</td>\n",
       "      <td>3</td>\n",
       "      <td>3690000.0</td>\n",
       "      <td>1400.0</td>\n",
       "    </tr>\n",
       "    <tr>\n",
       "      <th>4</th>\n",
       "      <td>Apartamento com 3 Quartos à Venda, 151m²</td>\n",
       "      <td>SQSW 301 Bloco I - Setor Sudoeste, Brasília - DF</td>\n",
       "      <td>151</td>\n",
       "      <td>3</td>\n",
       "      <td>4</td>\n",
       "      <td>2</td>\n",
       "      <td>1850000.0</td>\n",
       "      <td>0.0</td>\n",
       "    </tr>\n",
       "    <tr>\n",
       "      <th>5</th>\n",
       "      <td>Apartamento com 2 Quartos à Venda, 61m²</td>\n",
       "      <td>Setor Sudoeste, Brasília - DF</td>\n",
       "      <td>61</td>\n",
       "      <td>2</td>\n",
       "      <td>2</td>\n",
       "      <td>1</td>\n",
       "      <td>899000.0</td>\n",
       "      <td>640.0</td>\n",
       "    </tr>\n",
       "    <tr>\n",
       "      <th>6</th>\n",
       "      <td>Apartamento com 3 Quartos à Venda, 173m²</td>\n",
       "      <td>Setor Sudoeste, Brasília - DF</td>\n",
       "      <td>173</td>\n",
       "      <td>3</td>\n",
       "      <td>4</td>\n",
       "      <td>2</td>\n",
       "      <td>2415000.0</td>\n",
       "      <td>1200.0</td>\n",
       "    </tr>\n",
       "    <tr>\n",
       "      <th>7</th>\n",
       "      <td>Apartamento com 5 Quartos à Venda, 256m²</td>\n",
       "      <td>SQSW 102 Bloco B, 2 - Setor Sudoeste, Brasília...</td>\n",
       "      <td>256</td>\n",
       "      <td>5</td>\n",
       "      <td>3</td>\n",
       "      <td>2</td>\n",
       "      <td>3000000.0</td>\n",
       "      <td>2500.0</td>\n",
       "    </tr>\n",
       "    <tr>\n",
       "      <th>8</th>\n",
       "      <td>Parque das Figueiras</td>\n",
       "      <td>SQNW 103 Bloco G, SQNW 103 - Setor Noroeste, B...</td>\n",
       "      <td>102</td>\n",
       "      <td>3</td>\n",
       "      <td>4</td>\n",
       "      <td>2</td>\n",
       "      <td>1525100.0</td>\n",
       "      <td>0.0</td>\n",
       "    </tr>\n",
       "    <tr>\n",
       "      <th>9</th>\n",
       "      <td>Apartamento com  Quarto à Venda, 31m²</td>\n",
       "      <td>Setor Sudoeste, Brasília - DF</td>\n",
       "      <td>31</td>\n",
       "      <td>1</td>\n",
       "      <td>1</td>\n",
       "      <td>None</td>\n",
       "      <td>255000.0</td>\n",
       "      <td>0.0</td>\n",
       "    </tr>\n",
       "    <tr>\n",
       "      <th>10</th>\n",
       "      <td>Apartamento com 4 Quartos à Venda, 285m²</td>\n",
       "      <td>CCSW 1 - Setor Sudoeste, Brasília - DF</td>\n",
       "      <td>285</td>\n",
       "      <td>4</td>\n",
       "      <td>5</td>\n",
       "      <td>4</td>\n",
       "      <td>2200000.0</td>\n",
       "      <td>0.0</td>\n",
       "    </tr>\n",
       "    <tr>\n",
       "      <th>11</th>\n",
       "      <td>Apartamento com 4 Quartos à Venda, 172m²</td>\n",
       "      <td>QMSW 5, 0 - Setor Sudoeste, Brasília - DF</td>\n",
       "      <td>172</td>\n",
       "      <td>4</td>\n",
       "      <td>6</td>\n",
       "      <td>3</td>\n",
       "      <td>2600000.0</td>\n",
       "      <td>0.0</td>\n",
       "    </tr>\n",
       "    <tr>\n",
       "      <th>12</th>\n",
       "      <td>Apartamento com 3 Quartos à Venda, 94m²</td>\n",
       "      <td>Setor Sudoeste, Brasília - DF</td>\n",
       "      <td>94</td>\n",
       "      <td>3</td>\n",
       "      <td>3</td>\n",
       "      <td>1</td>\n",
       "      <td>1200000.0</td>\n",
       "      <td>790.0</td>\n",
       "    </tr>\n",
       "    <tr>\n",
       "      <th>13</th>\n",
       "      <td>Apartamento com 4 Quartos à Venda, 244m²</td>\n",
       "      <td>SQSW 500, 7 - Setor Sudoeste, Brasília - DF</td>\n",
       "      <td>244</td>\n",
       "      <td>4</td>\n",
       "      <td>6</td>\n",
       "      <td>4</td>\n",
       "      <td>3455327.0</td>\n",
       "      <td>0.0</td>\n",
       "    </tr>\n",
       "    <tr>\n",
       "      <th>14</th>\n",
       "      <td>Apartamento com 4 Quartos à Venda, 179m²</td>\n",
       "      <td>SQSW 500, 9 - Setor Sudoeste, Brasília - DF</td>\n",
       "      <td>179</td>\n",
       "      <td>4</td>\n",
       "      <td>6</td>\n",
       "      <td>3</td>\n",
       "      <td>2936069.0</td>\n",
       "      <td>0.0</td>\n",
       "    </tr>\n",
       "    <tr>\n",
       "      <th>15</th>\n",
       "      <td>Residencial Topázio</td>\n",
       "      <td>SQSW 500 Bloco R, - - Setor Sudoeste, Brasília...</td>\n",
       "      <td>139</td>\n",
       "      <td>3</td>\n",
       "      <td>5</td>\n",
       "      <td>3</td>\n",
       "      <td>2370241.0</td>\n",
       "      <td>0.0</td>\n",
       "    </tr>\n",
       "    <tr>\n",
       "      <th>16</th>\n",
       "      <td>Apartamento com 2 Quartos à Venda, 77m²</td>\n",
       "      <td>SQSW 105 Bloco D, 1 - Setor Sudoeste, Brasília...</td>\n",
       "      <td>77</td>\n",
       "      <td>2</td>\n",
       "      <td>3</td>\n",
       "      <td>1</td>\n",
       "      <td>877000.0</td>\n",
       "      <td>1100.0</td>\n",
       "    </tr>\n",
       "    <tr>\n",
       "      <th>17</th>\n",
       "      <td>Apartamento com 3 Quartos à Venda, 105m²</td>\n",
       "      <td>Setor Sudoeste, Brasília - DF</td>\n",
       "      <td>105</td>\n",
       "      <td>3</td>\n",
       "      <td>2</td>\n",
       "      <td>2</td>\n",
       "      <td>1699994.0</td>\n",
       "      <td>1100.0</td>\n",
       "    </tr>\n",
       "    <tr>\n",
       "      <th>18</th>\n",
       "      <td>Apartamento com 4 Quartos à Venda, 194m²</td>\n",
       "      <td>Setor Sudoeste, Brasília - DF</td>\n",
       "      <td>194</td>\n",
       "      <td>4</td>\n",
       "      <td>5</td>\n",
       "      <td>2</td>\n",
       "      <td>2290000.0</td>\n",
       "      <td>2230.0</td>\n",
       "    </tr>\n",
       "    <tr>\n",
       "      <th>19</th>\n",
       "      <td>Apartamento com 2 Quartos à Venda, 99m²</td>\n",
       "      <td>Setor Sudoeste, Brasília - DF</td>\n",
       "      <td>99</td>\n",
       "      <td>2</td>\n",
       "      <td>2</td>\n",
       "      <td>1</td>\n",
       "      <td>850000.0</td>\n",
       "      <td>800.0</td>\n",
       "    </tr>\n",
       "    <tr>\n",
       "      <th>20</th>\n",
       "      <td>Apartamento com 2 Quartos à Venda, 61m²</td>\n",
       "      <td>Setor Sudoeste, Brasília - DF</td>\n",
       "      <td>61</td>\n",
       "      <td>2</td>\n",
       "      <td>1</td>\n",
       "      <td>None</td>\n",
       "      <td>750000.0</td>\n",
       "      <td>600.0</td>\n",
       "    </tr>\n",
       "    <tr>\n",
       "      <th>21</th>\n",
       "      <td>Apartamento com  Quarto à Venda, 35m²</td>\n",
       "      <td>Setor Sudoeste, Brasília - DF</td>\n",
       "      <td>35</td>\n",
       "      <td>1</td>\n",
       "      <td>1</td>\n",
       "      <td>1</td>\n",
       "      <td>355000.0</td>\n",
       "      <td>348.0</td>\n",
       "    </tr>\n",
       "    <tr>\n",
       "      <th>22</th>\n",
       "      <td>Apartamento com 2 Quartos à Venda, 61m²</td>\n",
       "      <td>Setor Sudoeste, Brasília - DF</td>\n",
       "      <td>61</td>\n",
       "      <td>2</td>\n",
       "      <td>1</td>\n",
       "      <td>None</td>\n",
       "      <td>525000.0</td>\n",
       "      <td>500.0</td>\n",
       "    </tr>\n",
       "    <tr>\n",
       "      <th>23</th>\n",
       "      <td>Apartamento com 2 Quartos à Venda, 60m²</td>\n",
       "      <td>Setor Sudoeste, Brasília - DF</td>\n",
       "      <td>60</td>\n",
       "      <td>2</td>\n",
       "      <td>1</td>\n",
       "      <td>None</td>\n",
       "      <td>539000.0</td>\n",
       "      <td>550.0</td>\n",
       "    </tr>\n",
       "    <tr>\n",
       "      <th>24</th>\n",
       "      <td>Apartamento com 3 Quartos à Venda, 86m²</td>\n",
       "      <td>SQSW 105 Bloco F - Setor Sudoeste, Brasília - DF</td>\n",
       "      <td>86</td>\n",
       "      <td>3</td>\n",
       "      <td>3</td>\n",
       "      <td>1</td>\n",
       "      <td>1200000.0</td>\n",
       "      <td>850.0</td>\n",
       "    </tr>\n",
       "    <tr>\n",
       "      <th>25</th>\n",
       "      <td>Apartamento com 2 Quartos à Venda, 62m²</td>\n",
       "      <td>QRSW 8 - Setor Sudoeste, Brasília - DF</td>\n",
       "      <td>62</td>\n",
       "      <td>2</td>\n",
       "      <td>2</td>\n",
       "      <td>None</td>\n",
       "      <td>699000.0</td>\n",
       "      <td>500.0</td>\n",
       "    </tr>\n",
       "    <tr>\n",
       "      <th>26</th>\n",
       "      <td>Apartamento com 2 Quartos à Venda, 56m²</td>\n",
       "      <td>QRSW 2 Bloco B-14 - Setor Sudoeste, Brasília - DF</td>\n",
       "      <td>56</td>\n",
       "      <td>2</td>\n",
       "      <td>1</td>\n",
       "      <td>None</td>\n",
       "      <td>480000.0</td>\n",
       "      <td>720.0</td>\n",
       "    </tr>\n",
       "    <tr>\n",
       "      <th>27</th>\n",
       "      <td>Apartamento com  Quarto à Venda, 36m²</td>\n",
       "      <td>QMSW 6, 010 - Setor Sudoeste, Brasília - DF</td>\n",
       "      <td>36</td>\n",
       "      <td>1</td>\n",
       "      <td>1</td>\n",
       "      <td>1</td>\n",
       "      <td>360000.0</td>\n",
       "      <td>420.0</td>\n",
       "    </tr>\n",
       "    <tr>\n",
       "      <th>28</th>\n",
       "      <td>Apartamento com  Quarto à Venda, 24m²</td>\n",
       "      <td>QMSW 5 Lote 7 Bloco A - Setor Sudoeste, Brasíl...</td>\n",
       "      <td>24</td>\n",
       "      <td>1</td>\n",
       "      <td>1</td>\n",
       "      <td>1</td>\n",
       "      <td>239000.0</td>\n",
       "      <td>260.0</td>\n",
       "    </tr>\n",
       "    <tr>\n",
       "      <th>29</th>\n",
       "      <td>Apartamento com 2 Quartos à Venda, 77m²</td>\n",
       "      <td>Setor Sudoeste, Brasília - DF</td>\n",
       "      <td>77</td>\n",
       "      <td>2</td>\n",
       "      <td>2</td>\n",
       "      <td>1</td>\n",
       "      <td>1199000.0</td>\n",
       "      <td>530.0</td>\n",
       "    </tr>\n",
       "  </tbody>\n",
       "</table>\n",
       "</div>"
      ],
      "text/plain": [
       "                                   descricao  \\\n",
       "0   Apartamento com 4 Quartos à Venda, 146m²   \n",
       "1                                     Venice   \n",
       "2    Apartamento com 2 Quartos à Venda, 58m²   \n",
       "3   Apartamento com 4 Quartos à Venda, 257m²   \n",
       "4   Apartamento com 3 Quartos à Venda, 151m²   \n",
       "5    Apartamento com 2 Quartos à Venda, 61m²   \n",
       "6   Apartamento com 3 Quartos à Venda, 173m²   \n",
       "7   Apartamento com 5 Quartos à Venda, 256m²   \n",
       "8                       Parque das Figueiras   \n",
       "9      Apartamento com  Quarto à Venda, 31m²   \n",
       "10  Apartamento com 4 Quartos à Venda, 285m²   \n",
       "11  Apartamento com 4 Quartos à Venda, 172m²   \n",
       "12   Apartamento com 3 Quartos à Venda, 94m²   \n",
       "13  Apartamento com 4 Quartos à Venda, 244m²   \n",
       "14  Apartamento com 4 Quartos à Venda, 179m²   \n",
       "15                       Residencial Topázio   \n",
       "16   Apartamento com 2 Quartos à Venda, 77m²   \n",
       "17  Apartamento com 3 Quartos à Venda, 105m²   \n",
       "18  Apartamento com 4 Quartos à Venda, 194m²   \n",
       "19   Apartamento com 2 Quartos à Venda, 99m²   \n",
       "20   Apartamento com 2 Quartos à Venda, 61m²   \n",
       "21     Apartamento com  Quarto à Venda, 35m²   \n",
       "22   Apartamento com 2 Quartos à Venda, 61m²   \n",
       "23   Apartamento com 2 Quartos à Venda, 60m²   \n",
       "24   Apartamento com 3 Quartos à Venda, 86m²   \n",
       "25   Apartamento com 2 Quartos à Venda, 62m²   \n",
       "26   Apartamento com 2 Quartos à Venda, 56m²   \n",
       "27     Apartamento com  Quarto à Venda, 36m²   \n",
       "28     Apartamento com  Quarto à Venda, 24m²   \n",
       "29   Apartamento com 2 Quartos à Venda, 77m²   \n",
       "\n",
       "                                             endereco  metragem  quartos  \\\n",
       "0   SQSW 300 Bloco B, 506 - Setor Sudoeste, Brasíl...       146        4   \n",
       "1               SGCV - Zona Industrial, Brasília - DF        26        1   \n",
       "2           QRSW 2, 0 - Setor Sudoeste, Brasília - DF        58        2   \n",
       "3   SQSW 300 Bloco J, 0 - Setor Sudoeste, Brasília...       257        4   \n",
       "4    SQSW 301 Bloco I - Setor Sudoeste, Brasília - DF       151        3   \n",
       "5                       Setor Sudoeste, Brasília - DF        61        2   \n",
       "6                       Setor Sudoeste, Brasília - DF       173        3   \n",
       "7   SQSW 102 Bloco B, 2 - Setor Sudoeste, Brasília...       256        5   \n",
       "8   SQNW 103 Bloco G, SQNW 103 - Setor Noroeste, B...       102        3   \n",
       "9                       Setor Sudoeste, Brasília - DF        31        1   \n",
       "10             CCSW 1 - Setor Sudoeste, Brasília - DF       285        4   \n",
       "11          QMSW 5, 0 - Setor Sudoeste, Brasília - DF       172        4   \n",
       "12                      Setor Sudoeste, Brasília - DF        94        3   \n",
       "13        SQSW 500, 7 - Setor Sudoeste, Brasília - DF       244        4   \n",
       "14        SQSW 500, 9 - Setor Sudoeste, Brasília - DF       179        4   \n",
       "15  SQSW 500 Bloco R, - - Setor Sudoeste, Brasília...       139        3   \n",
       "16  SQSW 105 Bloco D, 1 - Setor Sudoeste, Brasília...        77        2   \n",
       "17                      Setor Sudoeste, Brasília - DF       105        3   \n",
       "18                      Setor Sudoeste, Brasília - DF       194        4   \n",
       "19                      Setor Sudoeste, Brasília - DF        99        2   \n",
       "20                      Setor Sudoeste, Brasília - DF        61        2   \n",
       "21                      Setor Sudoeste, Brasília - DF        35        1   \n",
       "22                      Setor Sudoeste, Brasília - DF        61        2   \n",
       "23                      Setor Sudoeste, Brasília - DF        60        2   \n",
       "24   SQSW 105 Bloco F - Setor Sudoeste, Brasília - DF        86        3   \n",
       "25             QRSW 8 - Setor Sudoeste, Brasília - DF        62        2   \n",
       "26  QRSW 2 Bloco B-14 - Setor Sudoeste, Brasília - DF        56        2   \n",
       "27        QMSW 6, 010 - Setor Sudoeste, Brasília - DF        36        1   \n",
       "28  QMSW 5 Lote 7 Bloco A - Setor Sudoeste, Brasíl...        24        1   \n",
       "29                      Setor Sudoeste, Brasília - DF        77        2   \n",
       "\n",
       "   banheiro vagas      valor  condominio  \n",
       "0         5     2  2200000.0      1200.0  \n",
       "1      None     1   386945.0         0.0  \n",
       "2         1  None   690000.0       500.0  \n",
       "3         5     3  3690000.0      1400.0  \n",
       "4         4     2  1850000.0         0.0  \n",
       "5         2     1   899000.0       640.0  \n",
       "6         4     2  2415000.0      1200.0  \n",
       "7         3     2  3000000.0      2500.0  \n",
       "8         4     2  1525100.0         0.0  \n",
       "9         1  None   255000.0         0.0  \n",
       "10        5     4  2200000.0         0.0  \n",
       "11        6     3  2600000.0         0.0  \n",
       "12        3     1  1200000.0       790.0  \n",
       "13        6     4  3455327.0         0.0  \n",
       "14        6     3  2936069.0         0.0  \n",
       "15        5     3  2370241.0         0.0  \n",
       "16        3     1   877000.0      1100.0  \n",
       "17        2     2  1699994.0      1100.0  \n",
       "18        5     2  2290000.0      2230.0  \n",
       "19        2     1   850000.0       800.0  \n",
       "20        1  None   750000.0       600.0  \n",
       "21        1     1   355000.0       348.0  \n",
       "22        1  None   525000.0       500.0  \n",
       "23        1  None   539000.0       550.0  \n",
       "24        3     1  1200000.0       850.0  \n",
       "25        2  None   699000.0       500.0  \n",
       "26        1  None   480000.0       720.0  \n",
       "27        1     1   360000.0       420.0  \n",
       "28        1     1   239000.0       260.0  \n",
       "29        2     1  1199000.0       530.0  "
      ]
     },
     "execution_count": 13,
     "metadata": {},
     "output_type": "execute_result"
    }
   ],
   "source": [
    "\n",
    "\n",
    "df['valor'] = df['valor'].apply(lambda v: locale.atof(v.split()[-1]))\n",
    "df['condominio'] = df['condominio'].apply(lambda v: locale.atof(v.split()[-1]))\n",
    "\n",
    "#df['valor_float'] = df['valor_float'].str.replace(',','.').astype(float)\n",
    "# df.to_csv('base2.csv', sep=',', index=False)\n",
    "\n",
    "df.head(30)"
   ]
  },
  {
   "cell_type": "code",
   "execution_count": 16,
   "metadata": {},
   "outputs": [
    {
     "data": {
      "text/html": [
       "<div>\n",
       "<style scoped>\n",
       "    .dataframe tbody tr th:only-of-type {\n",
       "        vertical-align: middle;\n",
       "    }\n",
       "\n",
       "    .dataframe tbody tr th {\n",
       "        vertical-align: top;\n",
       "    }\n",
       "\n",
       "    .dataframe thead th {\n",
       "        text-align: right;\n",
       "    }\n",
       "</style>\n",
       "<table border=\"1\" class=\"dataframe\">\n",
       "  <thead>\n",
       "    <tr style=\"text-align: right;\">\n",
       "      <th></th>\n",
       "      <th>descricao</th>\n",
       "      <th>endereco</th>\n",
       "      <th>metragem</th>\n",
       "      <th>quartos</th>\n",
       "      <th>banheiro</th>\n",
       "      <th>vagas</th>\n",
       "      <th>valor</th>\n",
       "      <th>condominio</th>\n",
       "    </tr>\n",
       "  </thead>\n",
       "  <tbody>\n",
       "    <tr>\n",
       "      <th>0</th>\n",
       "      <td>Apartamento com 4 Quartos à Venda, 146m²</td>\n",
       "      <td>SQSW 300 Bloco B, 506 - Setor Sudoeste, Brasíl...</td>\n",
       "      <td>146</td>\n",
       "      <td>4</td>\n",
       "      <td>5</td>\n",
       "      <td>2</td>\n",
       "      <td>2200000.0</td>\n",
       "      <td>1200.0</td>\n",
       "    </tr>\n",
       "    <tr>\n",
       "      <th>1</th>\n",
       "      <td>Venice</td>\n",
       "      <td>SGCV - Zona Industrial, Brasília - DF</td>\n",
       "      <td>26</td>\n",
       "      <td>1</td>\n",
       "      <td>None</td>\n",
       "      <td>1</td>\n",
       "      <td>386945.0</td>\n",
       "      <td>0.0</td>\n",
       "    </tr>\n",
       "    <tr>\n",
       "      <th>2</th>\n",
       "      <td>Apartamento com 2 Quartos à Venda, 58m²</td>\n",
       "      <td>QRSW 2, 0 - Setor Sudoeste, Brasília - DF</td>\n",
       "      <td>58</td>\n",
       "      <td>2</td>\n",
       "      <td>1</td>\n",
       "      <td>None</td>\n",
       "      <td>690000.0</td>\n",
       "      <td>500.0</td>\n",
       "    </tr>\n",
       "    <tr>\n",
       "      <th>3</th>\n",
       "      <td>Apartamento com 4 Quartos à Venda, 257m²</td>\n",
       "      <td>SQSW 300 Bloco J, 0 - Setor Sudoeste, Brasília...</td>\n",
       "      <td>257</td>\n",
       "      <td>4</td>\n",
       "      <td>5</td>\n",
       "      <td>3</td>\n",
       "      <td>3690000.0</td>\n",
       "      <td>1400.0</td>\n",
       "    </tr>\n",
       "    <tr>\n",
       "      <th>4</th>\n",
       "      <td>Apartamento com 3 Quartos à Venda, 151m²</td>\n",
       "      <td>SQSW 301 Bloco I - Setor Sudoeste, Brasília - DF</td>\n",
       "      <td>151</td>\n",
       "      <td>3</td>\n",
       "      <td>4</td>\n",
       "      <td>2</td>\n",
       "      <td>1850000.0</td>\n",
       "      <td>0.0</td>\n",
       "    </tr>\n",
       "    <tr>\n",
       "      <th>...</th>\n",
       "      <td>...</td>\n",
       "      <td>...</td>\n",
       "      <td>...</td>\n",
       "      <td>...</td>\n",
       "      <td>...</td>\n",
       "      <td>...</td>\n",
       "      <td>...</td>\n",
       "      <td>...</td>\n",
       "    </tr>\n",
       "    <tr>\n",
       "      <th>66</th>\n",
       "      <td>Apartamento com  Quarto à Venda, 27m²</td>\n",
       "      <td>CCSW 4, 0 - Setor Sudoeste, Brasília - DF</td>\n",
       "      <td>27</td>\n",
       "      <td>1</td>\n",
       "      <td>1</td>\n",
       "      <td>1</td>\n",
       "      <td>315000.0</td>\n",
       "      <td>390.0</td>\n",
       "    </tr>\n",
       "    <tr>\n",
       "      <th>67</th>\n",
       "      <td>Apartamento com 2 Quartos à Venda, 77m²</td>\n",
       "      <td>Setor Sudoeste, Brasília - DF</td>\n",
       "      <td>77</td>\n",
       "      <td>2</td>\n",
       "      <td>2</td>\n",
       "      <td>1</td>\n",
       "      <td>1100000.0</td>\n",
       "      <td>530.0</td>\n",
       "    </tr>\n",
       "    <tr>\n",
       "      <th>68</th>\n",
       "      <td>Apartamento com  Quarto à Venda, 27m²</td>\n",
       "      <td>Setor Sudoeste, Brasília - DF</td>\n",
       "      <td>27</td>\n",
       "      <td>1</td>\n",
       "      <td>1</td>\n",
       "      <td>1</td>\n",
       "      <td>289000.0</td>\n",
       "      <td>400.0</td>\n",
       "    </tr>\n",
       "    <tr>\n",
       "      <th>69</th>\n",
       "      <td>Apartamento com  Quarto à Venda, 36m²</td>\n",
       "      <td>QRSW 4 Bloco B-8 - Setor Sudoeste, Brasília - DF</td>\n",
       "      <td>36</td>\n",
       "      <td>1</td>\n",
       "      <td>1</td>\n",
       "      <td>None</td>\n",
       "      <td>310000.0</td>\n",
       "      <td>382.0</td>\n",
       "    </tr>\n",
       "    <tr>\n",
       "      <th>70</th>\n",
       "      <td>Apartamento com 4 Quartos à Venda, 160m²</td>\n",
       "      <td>CCSW 1 Lote 1 - Setor Sudoeste, Brasília - DF</td>\n",
       "      <td>160</td>\n",
       "      <td>4</td>\n",
       "      <td>4</td>\n",
       "      <td>2</td>\n",
       "      <td>1990000.0</td>\n",
       "      <td>0.0</td>\n",
       "    </tr>\n",
       "  </tbody>\n",
       "</table>\n",
       "<p>71 rows × 8 columns</p>\n",
       "</div>"
      ],
      "text/plain": [
       "                                   descricao  \\\n",
       "0   Apartamento com 4 Quartos à Venda, 146m²   \n",
       "1                                     Venice   \n",
       "2    Apartamento com 2 Quartos à Venda, 58m²   \n",
       "3   Apartamento com 4 Quartos à Venda, 257m²   \n",
       "4   Apartamento com 3 Quartos à Venda, 151m²   \n",
       "..                                       ...   \n",
       "66     Apartamento com  Quarto à Venda, 27m²   \n",
       "67   Apartamento com 2 Quartos à Venda, 77m²   \n",
       "68     Apartamento com  Quarto à Venda, 27m²   \n",
       "69     Apartamento com  Quarto à Venda, 36m²   \n",
       "70  Apartamento com 4 Quartos à Venda, 160m²   \n",
       "\n",
       "                                             endereco  metragem  quartos  \\\n",
       "0   SQSW 300 Bloco B, 506 - Setor Sudoeste, Brasíl...       146        4   \n",
       "1               SGCV - Zona Industrial, Brasília - DF        26        1   \n",
       "2           QRSW 2, 0 - Setor Sudoeste, Brasília - DF        58        2   \n",
       "3   SQSW 300 Bloco J, 0 - Setor Sudoeste, Brasília...       257        4   \n",
       "4    SQSW 301 Bloco I - Setor Sudoeste, Brasília - DF       151        3   \n",
       "..                                                ...       ...      ...   \n",
       "66          CCSW 4, 0 - Setor Sudoeste, Brasília - DF        27        1   \n",
       "67                      Setor Sudoeste, Brasília - DF        77        2   \n",
       "68                      Setor Sudoeste, Brasília - DF        27        1   \n",
       "69   QRSW 4 Bloco B-8 - Setor Sudoeste, Brasília - DF        36        1   \n",
       "70      CCSW 1 Lote 1 - Setor Sudoeste, Brasília - DF       160        4   \n",
       "\n",
       "   banheiro vagas      valor  condominio  \n",
       "0         5     2  2200000.0      1200.0  \n",
       "1      None     1   386945.0         0.0  \n",
       "2         1  None   690000.0       500.0  \n",
       "3         5     3  3690000.0      1400.0  \n",
       "4         4     2  1850000.0         0.0  \n",
       "..      ...   ...        ...         ...  \n",
       "66        1     1   315000.0       390.0  \n",
       "67        2     1  1100000.0       530.0  \n",
       "68        1     1   289000.0       400.0  \n",
       "69        1  None   310000.0       382.0  \n",
       "70        4     2  1990000.0         0.0  \n",
       "\n",
       "[71 rows x 8 columns]"
      ]
     },
     "execution_count": 16,
     "metadata": {},
     "output_type": "execute_result"
    }
   ],
   "source": [
    "df.head(71)"
   ]
  },
  {
   "cell_type": "code",
   "execution_count": 18,
   "metadata": {},
   "outputs": [
    {
     "data": {
      "text/plain": [
       "4"
      ]
     },
     "execution_count": 18,
     "metadata": {},
     "output_type": "execute_result"
    }
   ],
   "source": [
    "valor = df[df['endereco'].str.contains('Sudoeste') == False]\n",
    "len(valor)"
   ]
  },
  {
   "cell_type": "code",
   "execution_count": 19,
   "metadata": {},
   "outputs": [],
   "source": [
    "df.to_csv('sol.csv', sep=',', index=False)"
   ]
  },
  {
   "cell_type": "code",
   "execution_count": 20,
   "metadata": {},
   "outputs": [
    {
     "data": {
      "text/plain": [
       "(68, 8)"
      ]
     },
     "execution_count": 20,
     "metadata": {},
     "output_type": "execute_result"
    }
   ],
   "source": [
    "df = df[df['endereco'].str.contains('Sudoeste')]\n",
    "df.shape"
   ]
  },
  {
   "cell_type": "code",
   "execution_count": 21,
   "metadata": {},
   "outputs": [
    {
     "data": {
      "text/html": [
       "<div>\n",
       "<style scoped>\n",
       "    .dataframe tbody tr th:only-of-type {\n",
       "        vertical-align: middle;\n",
       "    }\n",
       "\n",
       "    .dataframe tbody tr th {\n",
       "        vertical-align: top;\n",
       "    }\n",
       "\n",
       "    .dataframe thead th {\n",
       "        text-align: right;\n",
       "    }\n",
       "</style>\n",
       "<table border=\"1\" class=\"dataframe\">\n",
       "  <thead>\n",
       "    <tr style=\"text-align: right;\">\n",
       "      <th></th>\n",
       "      <th>descricao</th>\n",
       "      <th>endereco</th>\n",
       "      <th>metragem</th>\n",
       "      <th>quartos</th>\n",
       "      <th>banheiro</th>\n",
       "      <th>vagas</th>\n",
       "      <th>valor</th>\n",
       "      <th>condominio</th>\n",
       "    </tr>\n",
       "  </thead>\n",
       "  <tbody>\n",
       "    <tr>\n",
       "      <th>0</th>\n",
       "      <td>Apartamento com 4 Quartos à Venda, 146m²</td>\n",
       "      <td>SQSW 300 Bloco B, 506 - Setor Sudoeste, Brasíl...</td>\n",
       "      <td>146</td>\n",
       "      <td>4</td>\n",
       "      <td>5</td>\n",
       "      <td>2</td>\n",
       "      <td>2200000.0</td>\n",
       "      <td>1200.0</td>\n",
       "    </tr>\n",
       "    <tr>\n",
       "      <th>2</th>\n",
       "      <td>Apartamento com 2 Quartos à Venda, 58m²</td>\n",
       "      <td>QRSW 2, 0 - Setor Sudoeste, Brasília - DF</td>\n",
       "      <td>58</td>\n",
       "      <td>2</td>\n",
       "      <td>1</td>\n",
       "      <td>None</td>\n",
       "      <td>690000.0</td>\n",
       "      <td>500.0</td>\n",
       "    </tr>\n",
       "    <tr>\n",
       "      <th>3</th>\n",
       "      <td>Apartamento com 4 Quartos à Venda, 257m²</td>\n",
       "      <td>SQSW 300 Bloco J, 0 - Setor Sudoeste, Brasília...</td>\n",
       "      <td>257</td>\n",
       "      <td>4</td>\n",
       "      <td>5</td>\n",
       "      <td>3</td>\n",
       "      <td>3690000.0</td>\n",
       "      <td>1400.0</td>\n",
       "    </tr>\n",
       "    <tr>\n",
       "      <th>4</th>\n",
       "      <td>Apartamento com 3 Quartos à Venda, 151m²</td>\n",
       "      <td>SQSW 301 Bloco I - Setor Sudoeste, Brasília - DF</td>\n",
       "      <td>151</td>\n",
       "      <td>3</td>\n",
       "      <td>4</td>\n",
       "      <td>2</td>\n",
       "      <td>1850000.0</td>\n",
       "      <td>0.0</td>\n",
       "    </tr>\n",
       "    <tr>\n",
       "      <th>5</th>\n",
       "      <td>Apartamento com 2 Quartos à Venda, 61m²</td>\n",
       "      <td>Setor Sudoeste, Brasília - DF</td>\n",
       "      <td>61</td>\n",
       "      <td>2</td>\n",
       "      <td>2</td>\n",
       "      <td>1</td>\n",
       "      <td>899000.0</td>\n",
       "      <td>640.0</td>\n",
       "    </tr>\n",
       "    <tr>\n",
       "      <th>6</th>\n",
       "      <td>Apartamento com 3 Quartos à Venda, 173m²</td>\n",
       "      <td>Setor Sudoeste, Brasília - DF</td>\n",
       "      <td>173</td>\n",
       "      <td>3</td>\n",
       "      <td>4</td>\n",
       "      <td>2</td>\n",
       "      <td>2415000.0</td>\n",
       "      <td>1200.0</td>\n",
       "    </tr>\n",
       "    <tr>\n",
       "      <th>7</th>\n",
       "      <td>Apartamento com 5 Quartos à Venda, 256m²</td>\n",
       "      <td>SQSW 102 Bloco B, 2 - Setor Sudoeste, Brasília...</td>\n",
       "      <td>256</td>\n",
       "      <td>5</td>\n",
       "      <td>3</td>\n",
       "      <td>2</td>\n",
       "      <td>3000000.0</td>\n",
       "      <td>2500.0</td>\n",
       "    </tr>\n",
       "    <tr>\n",
       "      <th>9</th>\n",
       "      <td>Apartamento com  Quarto à Venda, 31m²</td>\n",
       "      <td>Setor Sudoeste, Brasília - DF</td>\n",
       "      <td>31</td>\n",
       "      <td>1</td>\n",
       "      <td>1</td>\n",
       "      <td>None</td>\n",
       "      <td>255000.0</td>\n",
       "      <td>0.0</td>\n",
       "    </tr>\n",
       "    <tr>\n",
       "      <th>10</th>\n",
       "      <td>Apartamento com 4 Quartos à Venda, 285m²</td>\n",
       "      <td>CCSW 1 - Setor Sudoeste, Brasília - DF</td>\n",
       "      <td>285</td>\n",
       "      <td>4</td>\n",
       "      <td>5</td>\n",
       "      <td>4</td>\n",
       "      <td>2200000.0</td>\n",
       "      <td>0.0</td>\n",
       "    </tr>\n",
       "    <tr>\n",
       "      <th>11</th>\n",
       "      <td>Apartamento com 4 Quartos à Venda, 172m²</td>\n",
       "      <td>QMSW 5, 0 - Setor Sudoeste, Brasília - DF</td>\n",
       "      <td>172</td>\n",
       "      <td>4</td>\n",
       "      <td>6</td>\n",
       "      <td>3</td>\n",
       "      <td>2600000.0</td>\n",
       "      <td>0.0</td>\n",
       "    </tr>\n",
       "    <tr>\n",
       "      <th>12</th>\n",
       "      <td>Apartamento com 3 Quartos à Venda, 94m²</td>\n",
       "      <td>Setor Sudoeste, Brasília - DF</td>\n",
       "      <td>94</td>\n",
       "      <td>3</td>\n",
       "      <td>3</td>\n",
       "      <td>1</td>\n",
       "      <td>1200000.0</td>\n",
       "      <td>790.0</td>\n",
       "    </tr>\n",
       "    <tr>\n",
       "      <th>13</th>\n",
       "      <td>Apartamento com 4 Quartos à Venda, 244m²</td>\n",
       "      <td>SQSW 500, 7 - Setor Sudoeste, Brasília - DF</td>\n",
       "      <td>244</td>\n",
       "      <td>4</td>\n",
       "      <td>6</td>\n",
       "      <td>4</td>\n",
       "      <td>3455327.0</td>\n",
       "      <td>0.0</td>\n",
       "    </tr>\n",
       "    <tr>\n",
       "      <th>14</th>\n",
       "      <td>Apartamento com 4 Quartos à Venda, 179m²</td>\n",
       "      <td>SQSW 500, 9 - Setor Sudoeste, Brasília - DF</td>\n",
       "      <td>179</td>\n",
       "      <td>4</td>\n",
       "      <td>6</td>\n",
       "      <td>3</td>\n",
       "      <td>2936069.0</td>\n",
       "      <td>0.0</td>\n",
       "    </tr>\n",
       "    <tr>\n",
       "      <th>15</th>\n",
       "      <td>Residencial Topázio</td>\n",
       "      <td>SQSW 500 Bloco R, - - Setor Sudoeste, Brasília...</td>\n",
       "      <td>139</td>\n",
       "      <td>3</td>\n",
       "      <td>5</td>\n",
       "      <td>3</td>\n",
       "      <td>2370241.0</td>\n",
       "      <td>0.0</td>\n",
       "    </tr>\n",
       "    <tr>\n",
       "      <th>16</th>\n",
       "      <td>Apartamento com 2 Quartos à Venda, 77m²</td>\n",
       "      <td>SQSW 105 Bloco D, 1 - Setor Sudoeste, Brasília...</td>\n",
       "      <td>77</td>\n",
       "      <td>2</td>\n",
       "      <td>3</td>\n",
       "      <td>1</td>\n",
       "      <td>877000.0</td>\n",
       "      <td>1100.0</td>\n",
       "    </tr>\n",
       "    <tr>\n",
       "      <th>17</th>\n",
       "      <td>Apartamento com 3 Quartos à Venda, 105m²</td>\n",
       "      <td>Setor Sudoeste, Brasília - DF</td>\n",
       "      <td>105</td>\n",
       "      <td>3</td>\n",
       "      <td>2</td>\n",
       "      <td>2</td>\n",
       "      <td>1699994.0</td>\n",
       "      <td>1100.0</td>\n",
       "    </tr>\n",
       "    <tr>\n",
       "      <th>18</th>\n",
       "      <td>Apartamento com 4 Quartos à Venda, 194m²</td>\n",
       "      <td>Setor Sudoeste, Brasília - DF</td>\n",
       "      <td>194</td>\n",
       "      <td>4</td>\n",
       "      <td>5</td>\n",
       "      <td>2</td>\n",
       "      <td>2290000.0</td>\n",
       "      <td>2230.0</td>\n",
       "    </tr>\n",
       "    <tr>\n",
       "      <th>19</th>\n",
       "      <td>Apartamento com 2 Quartos à Venda, 99m²</td>\n",
       "      <td>Setor Sudoeste, Brasília - DF</td>\n",
       "      <td>99</td>\n",
       "      <td>2</td>\n",
       "      <td>2</td>\n",
       "      <td>1</td>\n",
       "      <td>850000.0</td>\n",
       "      <td>800.0</td>\n",
       "    </tr>\n",
       "    <tr>\n",
       "      <th>20</th>\n",
       "      <td>Apartamento com 2 Quartos à Venda, 61m²</td>\n",
       "      <td>Setor Sudoeste, Brasília - DF</td>\n",
       "      <td>61</td>\n",
       "      <td>2</td>\n",
       "      <td>1</td>\n",
       "      <td>None</td>\n",
       "      <td>750000.0</td>\n",
       "      <td>600.0</td>\n",
       "    </tr>\n",
       "    <tr>\n",
       "      <th>21</th>\n",
       "      <td>Apartamento com  Quarto à Venda, 35m²</td>\n",
       "      <td>Setor Sudoeste, Brasília - DF</td>\n",
       "      <td>35</td>\n",
       "      <td>1</td>\n",
       "      <td>1</td>\n",
       "      <td>1</td>\n",
       "      <td>355000.0</td>\n",
       "      <td>348.0</td>\n",
       "    </tr>\n",
       "    <tr>\n",
       "      <th>22</th>\n",
       "      <td>Apartamento com 2 Quartos à Venda, 61m²</td>\n",
       "      <td>Setor Sudoeste, Brasília - DF</td>\n",
       "      <td>61</td>\n",
       "      <td>2</td>\n",
       "      <td>1</td>\n",
       "      <td>None</td>\n",
       "      <td>525000.0</td>\n",
       "      <td>500.0</td>\n",
       "    </tr>\n",
       "    <tr>\n",
       "      <th>23</th>\n",
       "      <td>Apartamento com 2 Quartos à Venda, 60m²</td>\n",
       "      <td>Setor Sudoeste, Brasília - DF</td>\n",
       "      <td>60</td>\n",
       "      <td>2</td>\n",
       "      <td>1</td>\n",
       "      <td>None</td>\n",
       "      <td>539000.0</td>\n",
       "      <td>550.0</td>\n",
       "    </tr>\n",
       "    <tr>\n",
       "      <th>24</th>\n",
       "      <td>Apartamento com 3 Quartos à Venda, 86m²</td>\n",
       "      <td>SQSW 105 Bloco F - Setor Sudoeste, Brasília - DF</td>\n",
       "      <td>86</td>\n",
       "      <td>3</td>\n",
       "      <td>3</td>\n",
       "      <td>1</td>\n",
       "      <td>1200000.0</td>\n",
       "      <td>850.0</td>\n",
       "    </tr>\n",
       "    <tr>\n",
       "      <th>25</th>\n",
       "      <td>Apartamento com 2 Quartos à Venda, 62m²</td>\n",
       "      <td>QRSW 8 - Setor Sudoeste, Brasília - DF</td>\n",
       "      <td>62</td>\n",
       "      <td>2</td>\n",
       "      <td>2</td>\n",
       "      <td>None</td>\n",
       "      <td>699000.0</td>\n",
       "      <td>500.0</td>\n",
       "    </tr>\n",
       "    <tr>\n",
       "      <th>26</th>\n",
       "      <td>Apartamento com 2 Quartos à Venda, 56m²</td>\n",
       "      <td>QRSW 2 Bloco B-14 - Setor Sudoeste, Brasília - DF</td>\n",
       "      <td>56</td>\n",
       "      <td>2</td>\n",
       "      <td>1</td>\n",
       "      <td>None</td>\n",
       "      <td>480000.0</td>\n",
       "      <td>720.0</td>\n",
       "    </tr>\n",
       "    <tr>\n",
       "      <th>27</th>\n",
       "      <td>Apartamento com  Quarto à Venda, 36m²</td>\n",
       "      <td>QMSW 6, 010 - Setor Sudoeste, Brasília - DF</td>\n",
       "      <td>36</td>\n",
       "      <td>1</td>\n",
       "      <td>1</td>\n",
       "      <td>1</td>\n",
       "      <td>360000.0</td>\n",
       "      <td>420.0</td>\n",
       "    </tr>\n",
       "    <tr>\n",
       "      <th>28</th>\n",
       "      <td>Apartamento com  Quarto à Venda, 24m²</td>\n",
       "      <td>QMSW 5 Lote 7 Bloco A - Setor Sudoeste, Brasíl...</td>\n",
       "      <td>24</td>\n",
       "      <td>1</td>\n",
       "      <td>1</td>\n",
       "      <td>1</td>\n",
       "      <td>239000.0</td>\n",
       "      <td>260.0</td>\n",
       "    </tr>\n",
       "    <tr>\n",
       "      <th>29</th>\n",
       "      <td>Apartamento com 2 Quartos à Venda, 77m²</td>\n",
       "      <td>Setor Sudoeste, Brasília - DF</td>\n",
       "      <td>77</td>\n",
       "      <td>2</td>\n",
       "      <td>2</td>\n",
       "      <td>1</td>\n",
       "      <td>1199000.0</td>\n",
       "      <td>530.0</td>\n",
       "    </tr>\n",
       "    <tr>\n",
       "      <th>30</th>\n",
       "      <td>Apartamento com  Quarto à Venda, 27m²</td>\n",
       "      <td>CCSW 4, 0 - Setor Sudoeste, Brasília - DF</td>\n",
       "      <td>27</td>\n",
       "      <td>1</td>\n",
       "      <td>1</td>\n",
       "      <td>1</td>\n",
       "      <td>315000.0</td>\n",
       "      <td>390.0</td>\n",
       "    </tr>\n",
       "    <tr>\n",
       "      <th>31</th>\n",
       "      <td>Apartamento com 2 Quartos à Venda, 77m²</td>\n",
       "      <td>Setor Sudoeste, Brasília - DF</td>\n",
       "      <td>77</td>\n",
       "      <td>2</td>\n",
       "      <td>2</td>\n",
       "      <td>1</td>\n",
       "      <td>1100000.0</td>\n",
       "      <td>530.0</td>\n",
       "    </tr>\n",
       "  </tbody>\n",
       "</table>\n",
       "</div>"
      ],
      "text/plain": [
       "                                   descricao  \\\n",
       "0   Apartamento com 4 Quartos à Venda, 146m²   \n",
       "2    Apartamento com 2 Quartos à Venda, 58m²   \n",
       "3   Apartamento com 4 Quartos à Venda, 257m²   \n",
       "4   Apartamento com 3 Quartos à Venda, 151m²   \n",
       "5    Apartamento com 2 Quartos à Venda, 61m²   \n",
       "6   Apartamento com 3 Quartos à Venda, 173m²   \n",
       "7   Apartamento com 5 Quartos à Venda, 256m²   \n",
       "9      Apartamento com  Quarto à Venda, 31m²   \n",
       "10  Apartamento com 4 Quartos à Venda, 285m²   \n",
       "11  Apartamento com 4 Quartos à Venda, 172m²   \n",
       "12   Apartamento com 3 Quartos à Venda, 94m²   \n",
       "13  Apartamento com 4 Quartos à Venda, 244m²   \n",
       "14  Apartamento com 4 Quartos à Venda, 179m²   \n",
       "15                       Residencial Topázio   \n",
       "16   Apartamento com 2 Quartos à Venda, 77m²   \n",
       "17  Apartamento com 3 Quartos à Venda, 105m²   \n",
       "18  Apartamento com 4 Quartos à Venda, 194m²   \n",
       "19   Apartamento com 2 Quartos à Venda, 99m²   \n",
       "20   Apartamento com 2 Quartos à Venda, 61m²   \n",
       "21     Apartamento com  Quarto à Venda, 35m²   \n",
       "22   Apartamento com 2 Quartos à Venda, 61m²   \n",
       "23   Apartamento com 2 Quartos à Venda, 60m²   \n",
       "24   Apartamento com 3 Quartos à Venda, 86m²   \n",
       "25   Apartamento com 2 Quartos à Venda, 62m²   \n",
       "26   Apartamento com 2 Quartos à Venda, 56m²   \n",
       "27     Apartamento com  Quarto à Venda, 36m²   \n",
       "28     Apartamento com  Quarto à Venda, 24m²   \n",
       "29   Apartamento com 2 Quartos à Venda, 77m²   \n",
       "30     Apartamento com  Quarto à Venda, 27m²   \n",
       "31   Apartamento com 2 Quartos à Venda, 77m²   \n",
       "\n",
       "                                             endereco  metragem  quartos  \\\n",
       "0   SQSW 300 Bloco B, 506 - Setor Sudoeste, Brasíl...       146        4   \n",
       "2           QRSW 2, 0 - Setor Sudoeste, Brasília - DF        58        2   \n",
       "3   SQSW 300 Bloco J, 0 - Setor Sudoeste, Brasília...       257        4   \n",
       "4    SQSW 301 Bloco I - Setor Sudoeste, Brasília - DF       151        3   \n",
       "5                       Setor Sudoeste, Brasília - DF        61        2   \n",
       "6                       Setor Sudoeste, Brasília - DF       173        3   \n",
       "7   SQSW 102 Bloco B, 2 - Setor Sudoeste, Brasília...       256        5   \n",
       "9                       Setor Sudoeste, Brasília - DF        31        1   \n",
       "10             CCSW 1 - Setor Sudoeste, Brasília - DF       285        4   \n",
       "11          QMSW 5, 0 - Setor Sudoeste, Brasília - DF       172        4   \n",
       "12                      Setor Sudoeste, Brasília - DF        94        3   \n",
       "13        SQSW 500, 7 - Setor Sudoeste, Brasília - DF       244        4   \n",
       "14        SQSW 500, 9 - Setor Sudoeste, Brasília - DF       179        4   \n",
       "15  SQSW 500 Bloco R, - - Setor Sudoeste, Brasília...       139        3   \n",
       "16  SQSW 105 Bloco D, 1 - Setor Sudoeste, Brasília...        77        2   \n",
       "17                      Setor Sudoeste, Brasília - DF       105        3   \n",
       "18                      Setor Sudoeste, Brasília - DF       194        4   \n",
       "19                      Setor Sudoeste, Brasília - DF        99        2   \n",
       "20                      Setor Sudoeste, Brasília - DF        61        2   \n",
       "21                      Setor Sudoeste, Brasília - DF        35        1   \n",
       "22                      Setor Sudoeste, Brasília - DF        61        2   \n",
       "23                      Setor Sudoeste, Brasília - DF        60        2   \n",
       "24   SQSW 105 Bloco F - Setor Sudoeste, Brasília - DF        86        3   \n",
       "25             QRSW 8 - Setor Sudoeste, Brasília - DF        62        2   \n",
       "26  QRSW 2 Bloco B-14 - Setor Sudoeste, Brasília - DF        56        2   \n",
       "27        QMSW 6, 010 - Setor Sudoeste, Brasília - DF        36        1   \n",
       "28  QMSW 5 Lote 7 Bloco A - Setor Sudoeste, Brasíl...        24        1   \n",
       "29                      Setor Sudoeste, Brasília - DF        77        2   \n",
       "30          CCSW 4, 0 - Setor Sudoeste, Brasília - DF        27        1   \n",
       "31                      Setor Sudoeste, Brasília - DF        77        2   \n",
       "\n",
       "   banheiro vagas      valor  condominio  \n",
       "0         5     2  2200000.0      1200.0  \n",
       "2         1  None   690000.0       500.0  \n",
       "3         5     3  3690000.0      1400.0  \n",
       "4         4     2  1850000.0         0.0  \n",
       "5         2     1   899000.0       640.0  \n",
       "6         4     2  2415000.0      1200.0  \n",
       "7         3     2  3000000.0      2500.0  \n",
       "9         1  None   255000.0         0.0  \n",
       "10        5     4  2200000.0         0.0  \n",
       "11        6     3  2600000.0         0.0  \n",
       "12        3     1  1200000.0       790.0  \n",
       "13        6     4  3455327.0         0.0  \n",
       "14        6     3  2936069.0         0.0  \n",
       "15        5     3  2370241.0         0.0  \n",
       "16        3     1   877000.0      1100.0  \n",
       "17        2     2  1699994.0      1100.0  \n",
       "18        5     2  2290000.0      2230.0  \n",
       "19        2     1   850000.0       800.0  \n",
       "20        1  None   750000.0       600.0  \n",
       "21        1     1   355000.0       348.0  \n",
       "22        1  None   525000.0       500.0  \n",
       "23        1  None   539000.0       550.0  \n",
       "24        3     1  1200000.0       850.0  \n",
       "25        2  None   699000.0       500.0  \n",
       "26        1  None   480000.0       720.0  \n",
       "27        1     1   360000.0       420.0  \n",
       "28        1     1   239000.0       260.0  \n",
       "29        2     1  1199000.0       530.0  \n",
       "30        1     1   315000.0       390.0  \n",
       "31        2     1  1100000.0       530.0  "
      ]
     },
     "execution_count": 21,
     "metadata": {},
     "output_type": "execute_result"
    }
   ],
   "source": [
    "df.head(30)"
   ]
  },
  {
   "cell_type": "code",
   "execution_count": 22,
   "metadata": {},
   "outputs": [
    {
     "data": {
      "text/html": [
       "<div>\n",
       "<style scoped>\n",
       "    .dataframe tbody tr th:only-of-type {\n",
       "        vertical-align: middle;\n",
       "    }\n",
       "\n",
       "    .dataframe tbody tr th {\n",
       "        vertical-align: top;\n",
       "    }\n",
       "\n",
       "    .dataframe thead th {\n",
       "        text-align: right;\n",
       "    }\n",
       "</style>\n",
       "<table border=\"1\" class=\"dataframe\">\n",
       "  <thead>\n",
       "    <tr style=\"text-align: right;\">\n",
       "      <th></th>\n",
       "      <th>valor</th>\n",
       "      <th>metragem</th>\n",
       "    </tr>\n",
       "  </thead>\n",
       "  <tbody>\n",
       "    <tr>\n",
       "      <th>0</th>\n",
       "      <td>2200000.0</td>\n",
       "      <td>146</td>\n",
       "    </tr>\n",
       "    <tr>\n",
       "      <th>2</th>\n",
       "      <td>690000.0</td>\n",
       "      <td>58</td>\n",
       "    </tr>\n",
       "    <tr>\n",
       "      <th>3</th>\n",
       "      <td>3690000.0</td>\n",
       "      <td>257</td>\n",
       "    </tr>\n",
       "    <tr>\n",
       "      <th>4</th>\n",
       "      <td>1850000.0</td>\n",
       "      <td>151</td>\n",
       "    </tr>\n",
       "    <tr>\n",
       "      <th>5</th>\n",
       "      <td>899000.0</td>\n",
       "      <td>61</td>\n",
       "    </tr>\n",
       "  </tbody>\n",
       "</table>\n",
       "</div>"
      ],
      "text/plain": [
       "       valor  metragem\n",
       "0  2200000.0       146\n",
       "2   690000.0        58\n",
       "3  3690000.0       257\n",
       "4  1850000.0       151\n",
       "5   899000.0        61"
      ]
     },
     "execution_count": 22,
     "metadata": {},
     "output_type": "execute_result"
    }
   ],
   "source": [
    "df_amostra = df[['valor', 'metragem']]\n",
    "df_amostra.head()"
   ]
  },
  {
   "cell_type": "code",
   "execution_count": 23,
   "metadata": {},
   "outputs": [
    {
     "name": "stderr",
     "output_type": "stream",
     "text": [
      "/home/salomao/.virtualenvs/scraper/lib/python3.8/site-packages/statsmodels/compat/pandas.py:65: FutureWarning: pandas.Int64Index is deprecated and will be removed from pandas in a future version. Use pandas.Index with the appropriate dtype instead.\n",
      "  from pandas import Int64Index as NumericIndex\n"
     ]
    },
    {
     "data": {
      "application/vnd.plotly.v1+json": {
       "config": {
        "plotlyServerURL": "https://plot.ly"
       },
       "data": [
        {
         "hovertemplate": "metragem=%{x}<br>valor=%{y}<extra></extra>",
         "legendgroup": "",
         "marker": {
          "color": "#636efa",
          "symbol": "circle"
         },
         "mode": "markers",
         "name": "",
         "orientation": "v",
         "showlegend": false,
         "type": "scatter",
         "x": [
          146,
          58,
          257,
          151,
          61,
          173,
          256,
          31,
          285,
          172,
          94,
          244,
          179,
          139,
          77,
          105,
          194,
          99,
          61,
          35,
          61,
          60,
          86,
          62,
          56,
          36,
          24,
          77,
          27,
          77,
          27,
          36,
          160,
          105,
          146,
          58,
          257,
          151,
          61,
          173,
          256,
          31,
          285,
          172,
          94,
          244,
          179,
          139,
          77,
          105,
          194,
          99,
          61,
          35,
          61,
          60,
          86,
          62,
          56,
          36,
          24,
          77,
          27,
          77,
          27,
          36,
          160,
          105
         ],
         "xaxis": "x",
         "y": [
          2200000,
          690000,
          3690000,
          1850000,
          899000,
          2415000,
          3000000,
          255000,
          2200000,
          2600000,
          1200000,
          3455327,
          2936069,
          2370241,
          877000,
          1699994,
          2290000,
          850000,
          750000,
          355000,
          525000,
          539000,
          1200000,
          699000,
          480000,
          360000,
          239000,
          1199000,
          315000,
          1100000,
          289000,
          310000,
          1990000,
          1700000,
          2200000,
          690000,
          3690000,
          1850000,
          899000,
          2415000,
          3000000,
          255000,
          2200000,
          2600000,
          1200000,
          3455327,
          2936069,
          2370241,
          877000,
          1699994,
          2290000,
          850000,
          750000,
          355000,
          525000,
          539000,
          1200000,
          699000,
          480000,
          360000,
          239000,
          1199000,
          315000,
          1100000,
          289000,
          310000,
          1990000,
          1700000
         ],
         "yaxis": "y"
        },
        {
         "hovertemplate": "<b>OLS trendline</b><br>valor = 12685.8 * metragem + 13252.5<br>R<sup>2</sup>=0.871710<br><br>metragem=%{x}<br>valor=%{y} <b>(trend)</b><extra></extra>",
         "legendgroup": "",
         "marker": {
          "color": "#636efa",
          "symbol": "circle"
         },
         "mode": "lines",
         "name": "",
         "showlegend": false,
         "type": "scatter",
         "x": [
          24,
          24,
          27,
          27,
          27,
          27,
          31,
          31,
          35,
          35,
          36,
          36,
          36,
          36,
          56,
          56,
          58,
          58,
          60,
          60,
          61,
          61,
          61,
          61,
          61,
          61,
          62,
          62,
          77,
          77,
          77,
          77,
          77,
          77,
          86,
          86,
          94,
          94,
          99,
          99,
          105,
          105,
          105,
          105,
          139,
          139,
          146,
          146,
          151,
          151,
          160,
          160,
          172,
          172,
          173,
          173,
          179,
          179,
          194,
          194,
          244,
          244,
          256,
          256,
          257,
          257,
          285,
          285
         ],
         "xaxis": "x",
         "y": [
          317711.9987095732,
          317711.9987095732,
          355769.43191566074,
          355769.43191566074,
          355769.43191566074,
          355769.43191566074,
          406512.67619044415,
          406512.67619044415,
          457255.92046522757,
          457255.92046522757,
          469941.7315339234,
          469941.7315339234,
          469941.7315339234,
          469941.7315339234,
          723657.9529078406,
          723657.9529078406,
          749029.5750452323,
          749029.5750452323,
          774401.197182624,
          774401.197182624,
          787087.0082513199,
          787087.0082513199,
          787087.0082513199,
          787087.0082513199,
          787087.0082513199,
          787087.0082513199,
          799772.8193200157,
          799772.8193200157,
          990059.9853504535,
          990059.9853504535,
          990059.9853504535,
          990059.9853504535,
          990059.9853504535,
          990059.9853504535,
          1104232.284968716,
          1104232.284968716,
          1205718.773518283,
          1205718.773518283,
          1269147.8288617623,
          1269147.8288617623,
          1345262.6952739377,
          1345262.6952739377,
          1345262.6952739377,
          1345262.6952739377,
          1776580.271609597,
          1776580.271609597,
          1865380.9490904678,
          1865380.9490904678,
          1928810.0044339471,
          1928810.0044339471,
          2042982.3040522095,
          2042982.3040522095,
          2195212.0368765597,
          2195212.0368765597,
          2207897.8479452557,
          2207897.8479452557,
          2284012.714357431,
          2284012.714357431,
          2474299.8803878687,
          2474299.8803878687,
          3108590.4338226616,
          3108590.4338226616,
          3260820.166647012,
          3260820.166647012,
          3273505.977715708,
          3273505.977715708,
          3628708.6876391917,
          3628708.6876391917
         ],
         "yaxis": "y"
        }
       ],
       "layout": {
        "legend": {
         "tracegroupgap": 0
        },
        "margin": {
         "t": 60
        },
        "template": {
         "data": {
          "bar": [
           {
            "error_x": {
             "color": "#2a3f5f"
            },
            "error_y": {
             "color": "#2a3f5f"
            },
            "marker": {
             "line": {
              "color": "#E5ECF6",
              "width": 0.5
             },
             "pattern": {
              "fillmode": "overlay",
              "size": 10,
              "solidity": 0.2
             }
            },
            "type": "bar"
           }
          ],
          "barpolar": [
           {
            "marker": {
             "line": {
              "color": "#E5ECF6",
              "width": 0.5
             },
             "pattern": {
              "fillmode": "overlay",
              "size": 10,
              "solidity": 0.2
             }
            },
            "type": "barpolar"
           }
          ],
          "carpet": [
           {
            "aaxis": {
             "endlinecolor": "#2a3f5f",
             "gridcolor": "white",
             "linecolor": "white",
             "minorgridcolor": "white",
             "startlinecolor": "#2a3f5f"
            },
            "baxis": {
             "endlinecolor": "#2a3f5f",
             "gridcolor": "white",
             "linecolor": "white",
             "minorgridcolor": "white",
             "startlinecolor": "#2a3f5f"
            },
            "type": "carpet"
           }
          ],
          "choropleth": [
           {
            "colorbar": {
             "outlinewidth": 0,
             "ticks": ""
            },
            "type": "choropleth"
           }
          ],
          "contour": [
           {
            "colorbar": {
             "outlinewidth": 0,
             "ticks": ""
            },
            "colorscale": [
             [
              0,
              "#0d0887"
             ],
             [
              0.1111111111111111,
              "#46039f"
             ],
             [
              0.2222222222222222,
              "#7201a8"
             ],
             [
              0.3333333333333333,
              "#9c179e"
             ],
             [
              0.4444444444444444,
              "#bd3786"
             ],
             [
              0.5555555555555556,
              "#d8576b"
             ],
             [
              0.6666666666666666,
              "#ed7953"
             ],
             [
              0.7777777777777778,
              "#fb9f3a"
             ],
             [
              0.8888888888888888,
              "#fdca26"
             ],
             [
              1,
              "#f0f921"
             ]
            ],
            "type": "contour"
           }
          ],
          "contourcarpet": [
           {
            "colorbar": {
             "outlinewidth": 0,
             "ticks": ""
            },
            "type": "contourcarpet"
           }
          ],
          "heatmap": [
           {
            "colorbar": {
             "outlinewidth": 0,
             "ticks": ""
            },
            "colorscale": [
             [
              0,
              "#0d0887"
             ],
             [
              0.1111111111111111,
              "#46039f"
             ],
             [
              0.2222222222222222,
              "#7201a8"
             ],
             [
              0.3333333333333333,
              "#9c179e"
             ],
             [
              0.4444444444444444,
              "#bd3786"
             ],
             [
              0.5555555555555556,
              "#d8576b"
             ],
             [
              0.6666666666666666,
              "#ed7953"
             ],
             [
              0.7777777777777778,
              "#fb9f3a"
             ],
             [
              0.8888888888888888,
              "#fdca26"
             ],
             [
              1,
              "#f0f921"
             ]
            ],
            "type": "heatmap"
           }
          ],
          "heatmapgl": [
           {
            "colorbar": {
             "outlinewidth": 0,
             "ticks": ""
            },
            "colorscale": [
             [
              0,
              "#0d0887"
             ],
             [
              0.1111111111111111,
              "#46039f"
             ],
             [
              0.2222222222222222,
              "#7201a8"
             ],
             [
              0.3333333333333333,
              "#9c179e"
             ],
             [
              0.4444444444444444,
              "#bd3786"
             ],
             [
              0.5555555555555556,
              "#d8576b"
             ],
             [
              0.6666666666666666,
              "#ed7953"
             ],
             [
              0.7777777777777778,
              "#fb9f3a"
             ],
             [
              0.8888888888888888,
              "#fdca26"
             ],
             [
              1,
              "#f0f921"
             ]
            ],
            "type": "heatmapgl"
           }
          ],
          "histogram": [
           {
            "marker": {
             "pattern": {
              "fillmode": "overlay",
              "size": 10,
              "solidity": 0.2
             }
            },
            "type": "histogram"
           }
          ],
          "histogram2d": [
           {
            "colorbar": {
             "outlinewidth": 0,
             "ticks": ""
            },
            "colorscale": [
             [
              0,
              "#0d0887"
             ],
             [
              0.1111111111111111,
              "#46039f"
             ],
             [
              0.2222222222222222,
              "#7201a8"
             ],
             [
              0.3333333333333333,
              "#9c179e"
             ],
             [
              0.4444444444444444,
              "#bd3786"
             ],
             [
              0.5555555555555556,
              "#d8576b"
             ],
             [
              0.6666666666666666,
              "#ed7953"
             ],
             [
              0.7777777777777778,
              "#fb9f3a"
             ],
             [
              0.8888888888888888,
              "#fdca26"
             ],
             [
              1,
              "#f0f921"
             ]
            ],
            "type": "histogram2d"
           }
          ],
          "histogram2dcontour": [
           {
            "colorbar": {
             "outlinewidth": 0,
             "ticks": ""
            },
            "colorscale": [
             [
              0,
              "#0d0887"
             ],
             [
              0.1111111111111111,
              "#46039f"
             ],
             [
              0.2222222222222222,
              "#7201a8"
             ],
             [
              0.3333333333333333,
              "#9c179e"
             ],
             [
              0.4444444444444444,
              "#bd3786"
             ],
             [
              0.5555555555555556,
              "#d8576b"
             ],
             [
              0.6666666666666666,
              "#ed7953"
             ],
             [
              0.7777777777777778,
              "#fb9f3a"
             ],
             [
              0.8888888888888888,
              "#fdca26"
             ],
             [
              1,
              "#f0f921"
             ]
            ],
            "type": "histogram2dcontour"
           }
          ],
          "mesh3d": [
           {
            "colorbar": {
             "outlinewidth": 0,
             "ticks": ""
            },
            "type": "mesh3d"
           }
          ],
          "parcoords": [
           {
            "line": {
             "colorbar": {
              "outlinewidth": 0,
              "ticks": ""
             }
            },
            "type": "parcoords"
           }
          ],
          "pie": [
           {
            "automargin": true,
            "type": "pie"
           }
          ],
          "scatter": [
           {
            "marker": {
             "colorbar": {
              "outlinewidth": 0,
              "ticks": ""
             }
            },
            "type": "scatter"
           }
          ],
          "scatter3d": [
           {
            "line": {
             "colorbar": {
              "outlinewidth": 0,
              "ticks": ""
             }
            },
            "marker": {
             "colorbar": {
              "outlinewidth": 0,
              "ticks": ""
             }
            },
            "type": "scatter3d"
           }
          ],
          "scattercarpet": [
           {
            "marker": {
             "colorbar": {
              "outlinewidth": 0,
              "ticks": ""
             }
            },
            "type": "scattercarpet"
           }
          ],
          "scattergeo": [
           {
            "marker": {
             "colorbar": {
              "outlinewidth": 0,
              "ticks": ""
             }
            },
            "type": "scattergeo"
           }
          ],
          "scattergl": [
           {
            "marker": {
             "colorbar": {
              "outlinewidth": 0,
              "ticks": ""
             }
            },
            "type": "scattergl"
           }
          ],
          "scattermapbox": [
           {
            "marker": {
             "colorbar": {
              "outlinewidth": 0,
              "ticks": ""
             }
            },
            "type": "scattermapbox"
           }
          ],
          "scatterpolar": [
           {
            "marker": {
             "colorbar": {
              "outlinewidth": 0,
              "ticks": ""
             }
            },
            "type": "scatterpolar"
           }
          ],
          "scatterpolargl": [
           {
            "marker": {
             "colorbar": {
              "outlinewidth": 0,
              "ticks": ""
             }
            },
            "type": "scatterpolargl"
           }
          ],
          "scatterternary": [
           {
            "marker": {
             "colorbar": {
              "outlinewidth": 0,
              "ticks": ""
             }
            },
            "type": "scatterternary"
           }
          ],
          "surface": [
           {
            "colorbar": {
             "outlinewidth": 0,
             "ticks": ""
            },
            "colorscale": [
             [
              0,
              "#0d0887"
             ],
             [
              0.1111111111111111,
              "#46039f"
             ],
             [
              0.2222222222222222,
              "#7201a8"
             ],
             [
              0.3333333333333333,
              "#9c179e"
             ],
             [
              0.4444444444444444,
              "#bd3786"
             ],
             [
              0.5555555555555556,
              "#d8576b"
             ],
             [
              0.6666666666666666,
              "#ed7953"
             ],
             [
              0.7777777777777778,
              "#fb9f3a"
             ],
             [
              0.8888888888888888,
              "#fdca26"
             ],
             [
              1,
              "#f0f921"
             ]
            ],
            "type": "surface"
           }
          ],
          "table": [
           {
            "cells": {
             "fill": {
              "color": "#EBF0F8"
             },
             "line": {
              "color": "white"
             }
            },
            "header": {
             "fill": {
              "color": "#C8D4E3"
             },
             "line": {
              "color": "white"
             }
            },
            "type": "table"
           }
          ]
         },
         "layout": {
          "annotationdefaults": {
           "arrowcolor": "#2a3f5f",
           "arrowhead": 0,
           "arrowwidth": 1
          },
          "autotypenumbers": "strict",
          "coloraxis": {
           "colorbar": {
            "outlinewidth": 0,
            "ticks": ""
           }
          },
          "colorscale": {
           "diverging": [
            [
             0,
             "#8e0152"
            ],
            [
             0.1,
             "#c51b7d"
            ],
            [
             0.2,
             "#de77ae"
            ],
            [
             0.3,
             "#f1b6da"
            ],
            [
             0.4,
             "#fde0ef"
            ],
            [
             0.5,
             "#f7f7f7"
            ],
            [
             0.6,
             "#e6f5d0"
            ],
            [
             0.7,
             "#b8e186"
            ],
            [
             0.8,
             "#7fbc41"
            ],
            [
             0.9,
             "#4d9221"
            ],
            [
             1,
             "#276419"
            ]
           ],
           "sequential": [
            [
             0,
             "#0d0887"
            ],
            [
             0.1111111111111111,
             "#46039f"
            ],
            [
             0.2222222222222222,
             "#7201a8"
            ],
            [
             0.3333333333333333,
             "#9c179e"
            ],
            [
             0.4444444444444444,
             "#bd3786"
            ],
            [
             0.5555555555555556,
             "#d8576b"
            ],
            [
             0.6666666666666666,
             "#ed7953"
            ],
            [
             0.7777777777777778,
             "#fb9f3a"
            ],
            [
             0.8888888888888888,
             "#fdca26"
            ],
            [
             1,
             "#f0f921"
            ]
           ],
           "sequentialminus": [
            [
             0,
             "#0d0887"
            ],
            [
             0.1111111111111111,
             "#46039f"
            ],
            [
             0.2222222222222222,
             "#7201a8"
            ],
            [
             0.3333333333333333,
             "#9c179e"
            ],
            [
             0.4444444444444444,
             "#bd3786"
            ],
            [
             0.5555555555555556,
             "#d8576b"
            ],
            [
             0.6666666666666666,
             "#ed7953"
            ],
            [
             0.7777777777777778,
             "#fb9f3a"
            ],
            [
             0.8888888888888888,
             "#fdca26"
            ],
            [
             1,
             "#f0f921"
            ]
           ]
          },
          "colorway": [
           "#636efa",
           "#EF553B",
           "#00cc96",
           "#ab63fa",
           "#FFA15A",
           "#19d3f3",
           "#FF6692",
           "#B6E880",
           "#FF97FF",
           "#FECB52"
          ],
          "font": {
           "color": "#2a3f5f"
          },
          "geo": {
           "bgcolor": "white",
           "lakecolor": "white",
           "landcolor": "#E5ECF6",
           "showlakes": true,
           "showland": true,
           "subunitcolor": "white"
          },
          "hoverlabel": {
           "align": "left"
          },
          "hovermode": "closest",
          "mapbox": {
           "style": "light"
          },
          "paper_bgcolor": "white",
          "plot_bgcolor": "#E5ECF6",
          "polar": {
           "angularaxis": {
            "gridcolor": "white",
            "linecolor": "white",
            "ticks": ""
           },
           "bgcolor": "#E5ECF6",
           "radialaxis": {
            "gridcolor": "white",
            "linecolor": "white",
            "ticks": ""
           }
          },
          "scene": {
           "xaxis": {
            "backgroundcolor": "#E5ECF6",
            "gridcolor": "white",
            "gridwidth": 2,
            "linecolor": "white",
            "showbackground": true,
            "ticks": "",
            "zerolinecolor": "white"
           },
           "yaxis": {
            "backgroundcolor": "#E5ECF6",
            "gridcolor": "white",
            "gridwidth": 2,
            "linecolor": "white",
            "showbackground": true,
            "ticks": "",
            "zerolinecolor": "white"
           },
           "zaxis": {
            "backgroundcolor": "#E5ECF6",
            "gridcolor": "white",
            "gridwidth": 2,
            "linecolor": "white",
            "showbackground": true,
            "ticks": "",
            "zerolinecolor": "white"
           }
          },
          "shapedefaults": {
           "line": {
            "color": "#2a3f5f"
           }
          },
          "ternary": {
           "aaxis": {
            "gridcolor": "white",
            "linecolor": "white",
            "ticks": ""
           },
           "baxis": {
            "gridcolor": "white",
            "linecolor": "white",
            "ticks": ""
           },
           "bgcolor": "#E5ECF6",
           "caxis": {
            "gridcolor": "white",
            "linecolor": "white",
            "ticks": ""
           }
          },
          "title": {
           "x": 0.05
          },
          "xaxis": {
           "automargin": true,
           "gridcolor": "white",
           "linecolor": "white",
           "ticks": "",
           "title": {
            "standoff": 15
           },
           "zerolinecolor": "white",
           "zerolinewidth": 2
          },
          "yaxis": {
           "automargin": true,
           "gridcolor": "white",
           "linecolor": "white",
           "ticks": "",
           "title": {
            "standoff": 15
           },
           "zerolinecolor": "white",
           "zerolinewidth": 2
          }
         }
        },
        "xaxis": {
         "anchor": "y",
         "domain": [
          0,
          1
         ],
         "title": {
          "text": "metragem"
         }
        },
        "yaxis": {
         "anchor": "x",
         "domain": [
          0,
          1
         ],
         "title": {
          "text": "valor"
         }
        }
       }
      }
     },
     "metadata": {},
     "output_type": "display_data"
    }
   ],
   "source": [
    "import plotly.express as px \n",
    "from statsmodels.formula.api import ols\n",
    "import matplotlib.pyplot as plt\n",
    "\n",
    "fig = px.scatter(df, x = df['metragem'], y = df['valor'], trendline='ols')\n",
    "fig.show()"
   ]
  },
  {
   "cell_type": "code",
   "execution_count": 24,
   "metadata": {},
   "outputs": [],
   "source": [
    "model = ols(\"df['valor'] ~ df['metragem']\", df).fit()"
   ]
  },
  {
   "cell_type": "code",
   "execution_count": 25,
   "metadata": {},
   "outputs": [
    {
     "name": "stdout",
     "output_type": "stream",
     "text": [
      "                            OLS Regression Results                            \n",
      "==============================================================================\n",
      "Dep. Variable:            df['valor']   R-squared:                       0.872\n",
      "Model:                            OLS   Adj. R-squared:                  0.870\n",
      "Method:                 Least Squares   F-statistic:                     448.5\n",
      "Date:                dom, 30 jan 2022   Prob (F-statistic):           3.89e-31\n",
      "Time:                        01:51:53   Log-Likelihood:                -965.97\n",
      "No. Observations:                  68   AIC:                             1936.\n",
      "Df Residuals:                      66   BIC:                             1940.\n",
      "Df Model:                           1                                         \n",
      "Covariance Type:            nonrobust                                         \n",
      "==================================================================================\n",
      "                     coef    std err          t      P>|t|      [0.025      0.975]\n",
      "----------------------------------------------------------------------------------\n",
      "Intercept       1.325e+04   7.88e+04      0.168      0.867   -1.44e+05    1.71e+05\n",
      "df['metragem']  1.269e+04    599.041     21.177      0.000    1.15e+04    1.39e+04\n",
      "==============================================================================\n",
      "Omnibus:                       33.949   Durbin-Watson:                   1.865\n",
      "Prob(Omnibus):                  0.000   Jarque-Bera (JB):              105.745\n",
      "Skew:                          -1.456   Prob(JB):                     1.09e-23\n",
      "Kurtosis:                       8.371   Cond. No.                         236.\n",
      "==============================================================================\n",
      "\n",
      "Notes:\n",
      "[1] Standard Errors assume that the covariance matrix of the errors is correctly specified.\n"
     ]
    }
   ],
   "source": [
    "\n",
    "print(model.summary())"
   ]
  },
  {
   "cell_type": "code",
   "execution_count": 36,
   "metadata": {},
   "outputs": [
    {
     "data": {
      "text/plain": [
       "'0.0000000000000000000000000000003'"
      ]
     },
     "execution_count": 36,
     "metadata": {},
     "output_type": "execute_result"
    }
   ],
   "source": [
    "a = 3.30e-31\n",
    "f'{a:.31f}'"
   ]
  },
  {
   "cell_type": "code",
   "execution_count": null,
   "metadata": {},
   "outputs": [],
   "source": []
  }
 ],
 "metadata": {
  "interpreter": {
   "hash": "1352c9e1a801731cba60e5df049202f8bb14b275a550f79fca2507db53e2ee0e"
  },
  "kernelspec": {
   "display_name": "Python 3.8.5 64-bit ('scraper': virtualenv)",
   "language": "python",
   "name": "python3"
  },
  "language_info": {
   "codemirror_mode": {
    "name": "ipython",
    "version": 3
   },
   "file_extension": ".py",
   "mimetype": "text/x-python",
   "name": "python",
   "nbconvert_exporter": "python",
   "pygments_lexer": "ipython3",
   "version": "3.8.5"
  },
  "orig_nbformat": 4
 },
 "nbformat": 4,
 "nbformat_minor": 2
}
