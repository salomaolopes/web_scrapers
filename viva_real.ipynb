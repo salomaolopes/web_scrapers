{
 "cells": [
  {
   "cell_type": "code",
   "execution_count": 1,
   "metadata": {},
   "outputs": [
    {
     "data": {
      "text/plain": [
       "'pt_BR.UTF-8'"
      ]
     },
     "execution_count": 1,
     "metadata": {},
     "output_type": "execute_result"
    }
   ],
   "source": [
    "# Importando bibliotecas\n",
    "import pandas as pd \n",
    "import numpy as np \n",
    "\n",
    "import requests\n",
    "from bs4 import BeautifulSoup as bs\n",
    "\n",
    "import locale\n",
    "locale.setlocale(locale.LC_ALL, 'pt_BR.UTF-8')"
   ]
  },
  {
   "cell_type": "code",
   "execution_count": 2,
   "metadata": {},
   "outputs": [],
   "source": [
    "URL = 'https://www.vivareal.com.br/venda/distrito-federal/brasilia/bairros/setor-sudoeste/apartamento_residencial/?pagina={}'\n",
    "i = 1\n",
    "retorno = requests.get(URL)\n",
    "soup = bs(retorno.text)"
   ]
  },
  {
   "cell_type": "markdown",
   "metadata": {},
   "source": [
    "###### **Verificando o tamanho de objetos carregados por página**"
   ]
  },
  {
   "cell_type": "code",
   "execution_count": 3,
   "metadata": {},
   "outputs": [
    {
     "data": {
      "text/plain": [
       "36"
      ]
     },
     "execution_count": 3,
     "metadata": {},
     "output_type": "execute_result"
    }
   ],
   "source": [
    "objetos_pag = soup.find_all('article', {'class':'property-card__container js-property-card'})\n",
    "len(objetos_pag)"
   ]
  },
  {
   "cell_type": "markdown",
   "metadata": {},
   "source": [
    "###### **Obtendo o primeiro objeto e verificando os atributos que serão importante e a classe ao qual pertence**"
   ]
  },
  {
   "cell_type": "code",
   "execution_count": 4,
   "metadata": {},
   "outputs": [
    {
     "data": {
      "text/plain": [
       "<article class=\"property-card__container js-property-card\" data-see-phone=\"\"> <div class=\"property-card__main-info\"> <div class=\"property-card__main-link\"> <div class=\"property-card__carousel js-property-carousel\"> <a class=\"property-card__labels-container js-main-info js-listing-labels-link\" href=\"/imovel/apartamento-4-quartos-setor-sudoeste-bairros-brasilia-com-garagem-146m2-venda-RS2250000-id-2542005292/\"> <div class=\"property-card__inactive-listing\">Indisponível</div> <div class=\"property-card__already-seen\">Visualizado</div> </a> <div class=\"carousel__container js-carousel-scroll\" style=\"width: calc(5 * 100%);\"> <div class=\"carousel__item-wrapper js-carousel-item-wrapper\"> <img alt=\"Foto 1 de Apartamento com 4 Quartos à venda, 146m² em Setor Sudoeste, Brasília\" class=\"carousel__image js-carousel-image\" src=\"https://resizedimgs.vivareal.com/crop/286x200/vr.images.sp/b53ff5454ff66192c2aeb0a879fa382c.jpg\" title=\"Apartamento com 4 Quartos à venda, 146m² em Setor Sudoeste, Brasília - imagem 1\"/> </div> <div class=\"carousel__item-wrapper js-carousel-item-wrapper\"> <img alt=\"Foto 2 de Apartamento com 4 Quartos à venda, 146m² em Setor Sudoeste, Brasília\" class=\"carousel__image js-carousel-image\" data-src=\"https://resizedimgs.vivareal.com/{action}/{width}x{height}/vr.images.sp/d617cf2af0d4a2907fba5e92f218c160.jpg\" src=\"https://cdn1.vivareal.com/p/1-5814b05/v/static/app/img/pixel.png\" title=\"Apartamento com 4 Quartos à venda, 146m² em Setor Sudoeste, Brasília - imagem 2\"/> </div> <div class=\"carousel__item-wrapper js-carousel-item-wrapper\"> <img alt=\"Foto 3 de Apartamento com 4 Quartos à venda, 146m² em Setor Sudoeste, Brasília\" class=\"carousel__image js-carousel-image\" data-src=\"https://resizedimgs.vivareal.com/{action}/{width}x{height}/vr.images.sp/d9d4079bab2021a3bae9c981793b3ae9.jpg\" src=\"https://cdn1.vivareal.com/p/1-5814b05/v/static/app/img/pixel.png\" title=\"Apartamento com 4 Quartos à venda, 146m² em Setor Sudoeste, Brasília - imagem 3\"/> </div> <div class=\"carousel__item-wrapper js-carousel-item-wrapper\"> <img alt=\"Foto 4 de Apartamento com 4 Quartos à venda, 146m² em Setor Sudoeste, Brasília\" class=\"carousel__image js-carousel-image\" data-src=\"https://resizedimgs.vivareal.com/{action}/{width}x{height}/vr.images.sp/c34e1c03845df75fff53da6a55794117.jpg\" src=\"https://cdn1.vivareal.com/p/1-5814b05/v/static/app/img/pixel.png\" title=\"Apartamento com 4 Quartos à venda, 146m² em Setor Sudoeste, Brasília - imagem 4\"/> </div> <div class=\"carousel__item-wrapper js-carousel-item-wrapper\"> <img alt=\"Foto 5 de Apartamento com 4 Quartos à venda, 146m² em Setor Sudoeste, Brasília\" class=\"carousel__image js-carousel-image\" data-src=\"https://resizedimgs.vivareal.com/{action}/{width}x{height}/vr.images.sp/d2a56f3866925732405339fe17a59e4e.jpg\" src=\"https://cdn1.vivareal.com/p/1-5814b05/v/static/app/img/pixel.png\" title=\"Apartamento com 4 Quartos à venda, 146m² em Setor Sudoeste, Brasília - imagem 5\"/> <div class=\"carousel__see-more\"> <span class=\"see-more__count\">+ 16 fotos</span> </div> </div> </div> <div class=\"carousel__navigation js-carousel-navigation\"> <div class=\"carousel__prev js-carousel-prev\"></div> <div class=\"carousel__next js-carousel-next\"></div> </div> <div class=\"carousel__navigation-bullets js-carousel-navigation-bullets\"> <div class=\"bullets__item js-bullets-item\" data-index=\"0\"></div> <div class=\"bullets__item js-bullets-item\" data-index=\"1\"></div> <div class=\"bullets__item js-bullets-item\" data-index=\"2\"></div> <div class=\"bullets__item js-bullets-item\" data-index=\"3\"></div> <div class=\"bullets__item js-bullets-item\" data-index=\"4\"></div> </div> </div> </div> </div> <a class=\"property-card__content-link js-card-title\" href=\"/imovel/apartamento-4-quartos-setor-sudoeste-bairros-brasilia-com-garagem-146m2-venda-RS2250000-id-2542005292/\"> <div class=\"property-card__content\"> <h2 class=\"property-card__header\"> <span class=\"property-card__title js-cardLink js-card-title\">  Apartamento com 4 Quartos à Venda, 146m²  </span> <span class=\"property-card__address-container js-property-card-address js-see-on-map\"> <span class=\"property-card__address\">SQSW 300 Bloco B, 506 - Setor Sudoeste, Brasília - DF</span> <span class=\"property-card__map-link\"> ver mapa </span> </span> </h2> <ul class=\"property-card__details\"> <li class=\"property-card__detail-item property-card__detail-area\"> <span class=\"property-card__detail-value js-property-card-value property-card__detail-area js-property-card-detail-area\"> 146 </span> <span class=\"property-card__detail-text js-property-card-detail-text\"> m² </span> </li> <li class=\"property-card__detail-item property-card__detail-room js-property-detail-rooms\"> <span class=\"property-card__detail-value js-property-card-value\"> 4 </span> <span class=\"property-card__detail-text js-property-card-detail-text\"> Quartos </span> </li> <li class=\"property-card__detail-item property-card__detail-bathroom js-property-detail-bathroom\"> <span class=\"property-card__detail-value js-property-card-value\"> 5 </span> <span class=\"property-card__detail-text js-property-card-detail-text\"> Banheiros </span> </li> <li class=\"property-card__detail-item property-card__detail-garage js-property-detail-garages\"> <span class=\"property-card__detail-value js-property-card-value\"> 2 </span> <span class=\"property-card__detail-text js-property-card-detail-text\"> Vagas </span> </li> </ul> <ul class=\"property-card__amenities\"> <li class=\"amenities__item\" title=\"Piscina\">Piscina</li> <li class=\"amenities__item\" title=\"Churrasqueira\">Churrasqueira</li> <li class=\"amenities__item\" title=\"Elevador\">Elevador</li> <li class=\"amenities__item\" title=\"Academia\">Academia</li> <li class=\"amenities__item\" title=\"Aceita animais\">Aceita animais</li> <li class=\"amenities__item\">...</li> </ul> <section class=\"property-card__values\"> <div class=\"property-card__price js-property-card-prices js-property-card__price-small\"> <p style=\"display: block;\">  R$ 2.250.000  </p> </div> <footer class=\"property-card__price-details\"> <div class=\"property-card__price-details--condo\"> Condomínio: <strong class=\"js-condo-price\">  R$ 1.200  </strong> </div> </footer> </section> </div> </a> <div class=\"property-card__actions\"> <button class=\"property-card__button property-card__button--phone js-phone-lead\">Telefone</button> <button class=\"property-card__button property-card__button--message js-contact-lead\"> <span>Mensagem</span> </button> <button class=\"property-card__button property-card__button--whatsapp js-whatsapp-lead\">Whatsapp</button> </div> <picture class=\"property-card__account-link js-property-card-account-link\"> <img alt=\"ALFREDO MARTINS REIS\" class=\"lazyload\" data-src=\"https://cdn1.vivareal.com/p/1-5814b05/v/static/app/img/publisher-undefined.png\" src=\"https://cdn1.vivareal.com/p/1-5814b05/v/static/app/img/pixel.png\"/> </picture> </article>"
      ]
     },
     "execution_count": 4,
     "metadata": {},
     "output_type": "execute_result"
    }
   ],
   "source": [
    "objeto = objetos_pag[0]\n",
    "objeto"
   ]
  },
  {
   "cell_type": "markdown",
   "metadata": {},
   "source": [
    "###### **Colocando cada objeto dentro de uma variável**"
   ]
  },
  {
   "cell_type": "code",
   "execution_count": 5,
   "metadata": {},
   "outputs": [
    {
     "name": "stdout",
     "output_type": "stream",
     "text": [
      "68.0\n",
      "Apartamento com 4 Quartos à Venda, 146m²\n",
      "SQSW 300 Bloco B, 506 - Setor Sudoeste, Brasília - DF\n",
      "146\n",
      "4\n",
      "5\n",
      "2\n",
      "R$ 2.250.000\n",
      "R$ 1.200\n"
     ]
    }
   ],
   "source": [
    "qtd_imoveis = float(soup.find('strong', {'class':'results-summary__count js-total-records'}).text.replace('.',''))\n",
    "descricao = soup.find('span', {'class': 'property-card__title js-cardLink js-card-title'}).text.strip()\n",
    "endereco = soup.find('span', {'class': 'property-card__address'}).text.strip()\n",
    "metragem = int(soup.find('li', {'class': 'property-card__detail-item property-card__detail-area'}).span.text.strip())\n",
    "quartos = int(soup.find('li', {'class': 'property-card__detail-room'}).span.text.strip())\n",
    "banheiro = int(soup.find('li',{'class': 'property-card__detail-bathroom'}).span.text.strip())\n",
    "vagas = int(soup.find('li',{'class': 'property-card__detail-garage'}).span.text.strip())\n",
    "valor = soup.find(class_='property-card__price js-property-card-prices js-property-card__price-small').text.strip()\n",
    "condominio = soup.find('strong', {'class':'js-condo-price'}).text.strip()\n",
    "\n",
    "print(qtd_imoveis)\n",
    "print(descricao)\n",
    "print(endereco)\n",
    "print(metragem)\n",
    "print(quartos)\n",
    "print(banheiro)\n",
    "print(vagas)\n",
    "print(valor)\n",
    "print(condominio)"
   ]
  },
  {
   "cell_type": "markdown",
   "metadata": {},
   "source": [
    "###### **Criando Dataframe para organizar as variáveis encontradas. Deixei a quantidade de imóveis encontrados na pesquisa(64) fora do Dataframe**"
   ]
  },
  {
   "cell_type": "code",
   "execution_count": 6,
   "metadata": {},
   "outputs": [],
   "source": [
    "df = pd.DataFrame(columns=[\n",
    "    'descricao',\n",
    "    'endereco',\n",
    "    'metragem',\n",
    "    'quartos',\n",
    "    'banheiro',\n",
    "    'vagas',\n",
    "    'valor',\n",
    "    'condominio',\n",
    "])\n",
    "\n",
    "i = 0"
   ]
  },
  {
   "cell_type": "code",
   "execution_count": 7,
   "metadata": {},
   "outputs": [
    {
     "data": {
      "text/plain": [
       "Index(['descricao', 'endereco', 'metragem', 'quartos', 'banheiro', 'vagas',\n",
       "       'valor', 'condominio'],\n",
       "      dtype='object')"
      ]
     },
     "execution_count": 7,
     "metadata": {},
     "output_type": "execute_result"
    }
   ],
   "source": [
    "df.columns"
   ]
  },
  {
   "cell_type": "markdown",
   "metadata": {},
   "source": [
    "###### **Laço de repetição para inserir os 64 objetos encontrados**"
   ]
  },
  {
   "cell_type": "code",
   "execution_count": 8,
   "metadata": {},
   "outputs": [
    {
     "name": "stdout",
     "output_type": "stream",
     "text": [
      "valor i: 1 \t\t qtd_imoveis: 0\n",
      "valor i: 2 \t\t qtd_imoveis: 36\n"
     ]
    }
   ],
   "source": [
    "\n",
    "while qtd_imoveis > df.shape[0]:\n",
    "    \n",
    "    i += 1\n",
    "    print(f\"valor i: {i} \\t\\t qtd_imoveis: {df.shape[0]}\")\n",
    "    ret = requests.get(URL.format(i))\n",
    "    soup = bs(ret.text)\n",
    "\n",
    "    final = soup.find_all('article', {'class':'property-card__container js-property-card'})\n",
    "\n",
    "    for objeto in final:\n",
    "        try:\n",
    "            descricao = objeto.find('span', {'class': 'property-card__title js-cardLink js-card-title'}).text.strip()\n",
    "        except: \n",
    "            descricao = None\n",
    "        try:\n",
    "            endereco = objeto.find('span', {'class': 'property-card__address'}).text.strip()\n",
    "        except: \n",
    "            endereco = None\n",
    "        try:\n",
    "            metragem = int(objeto.find('li', {'class': 'property-card__detail-item property-card__detail-area'}).span.text.strip())\n",
    "        except:\n",
    "            metragem = None\n",
    "        try:\n",
    "            quartos = int(objeto.find('li', {'class': 'property-card__detail-room'}).span.text.strip())\n",
    "        except: \n",
    "            quartos = None\n",
    "        try: \n",
    "            banheiro = int(objeto.find('li',{'class': 'property-card__detail-bathroom'}).span.text.strip())\n",
    "        except:\n",
    "            banheiro = None\n",
    "        try:\n",
    "            vagas = int(objeto.find('li',{'class': 'property-card__detail-garage'}).span.text.strip())\n",
    "        except:\n",
    "            vagas = None\n",
    "        try:\n",
    "            valor = objeto.find(class_='property-card__price js-property-card-prices js-property-card__price-small').text.strip()\n",
    "        except:\n",
    "            valor = None\n",
    "        try:\n",
    "            condominio = objeto.find('strong', {'class':'js-condo-price'}).text.strip()\n",
    "        except:\n",
    "            condominio = None\n",
    "            \n",
    "        df.loc[df.shape[0]] = [\n",
    "            descricao,\n",
    "            endereco,\n",
    "            metragem,\n",
    "            quartos,\n",
    "            banheiro,\n",
    "            vagas,\n",
    "            valor,\n",
    "            condominio\n",
    "        ]      "
   ]
  },
  {
   "cell_type": "code",
   "execution_count": 9,
   "metadata": {},
   "outputs": [
    {
     "data": {
      "text/html": [
       "<div>\n",
       "<style scoped>\n",
       "    .dataframe tbody tr th:only-of-type {\n",
       "        vertical-align: middle;\n",
       "    }\n",
       "\n",
       "    .dataframe tbody tr th {\n",
       "        vertical-align: top;\n",
       "    }\n",
       "\n",
       "    .dataframe thead th {\n",
       "        text-align: right;\n",
       "    }\n",
       "</style>\n",
       "<table border=\"1\" class=\"dataframe\">\n",
       "  <thead>\n",
       "    <tr style=\"text-align: right;\">\n",
       "      <th></th>\n",
       "      <th>descricao</th>\n",
       "      <th>endereco</th>\n",
       "      <th>metragem</th>\n",
       "      <th>quartos</th>\n",
       "      <th>banheiro</th>\n",
       "      <th>vagas</th>\n",
       "      <th>valor</th>\n",
       "      <th>condominio</th>\n",
       "    </tr>\n",
       "  </thead>\n",
       "  <tbody>\n",
       "    <tr>\n",
       "      <th>0</th>\n",
       "      <td>Apartamento com 4 Quartos à Venda, 146m²</td>\n",
       "      <td>SQSW 300 Bloco B, 506 - Setor Sudoeste, Brasíl...</td>\n",
       "      <td>146</td>\n",
       "      <td>4</td>\n",
       "      <td>5</td>\n",
       "      <td>2</td>\n",
       "      <td>R$ 2.250.000</td>\n",
       "      <td>R$ 1.200</td>\n",
       "    </tr>\n",
       "    <tr>\n",
       "      <th>1</th>\n",
       "      <td>Haus by Novka</td>\n",
       "      <td>Parque Recreativo Sarah Kubitschek, - - Asa Su...</td>\n",
       "      <td>None</td>\n",
       "      <td>None</td>\n",
       "      <td>None</td>\n",
       "      <td>1</td>\n",
       "      <td>Sob Consulta</td>\n",
       "      <td>None</td>\n",
       "    </tr>\n",
       "    <tr>\n",
       "      <th>2</th>\n",
       "      <td>Apartamento com 2 Quartos à Venda, 90m²</td>\n",
       "      <td>SQSW 101 Bloco H, 101 - Setor Sudoeste, Brasíl...</td>\n",
       "      <td>90</td>\n",
       "      <td>2</td>\n",
       "      <td>2</td>\n",
       "      <td>1</td>\n",
       "      <td>R$ 1.300.000</td>\n",
       "      <td>None</td>\n",
       "    </tr>\n",
       "    <tr>\n",
       "      <th>3</th>\n",
       "      <td>Apartamento com 3 Quartos à Venda, 90m²</td>\n",
       "      <td>SQSW 100 Bloco F, 603 - Setor Sudoeste, Brasíl...</td>\n",
       "      <td>90</td>\n",
       "      <td>3</td>\n",
       "      <td>1</td>\n",
       "      <td>1</td>\n",
       "      <td>R$ 1.165.000</td>\n",
       "      <td>R$ 800.000</td>\n",
       "    </tr>\n",
       "    <tr>\n",
       "      <th>4</th>\n",
       "      <td>Apartamento com 3 Quartos à Venda, 90m²</td>\n",
       "      <td>SQSW 100 Bloco D, 1 - Setor Sudoeste, Brasília...</td>\n",
       "      <td>90</td>\n",
       "      <td>3</td>\n",
       "      <td>3</td>\n",
       "      <td>1</td>\n",
       "      <td>R$ 1.255.000</td>\n",
       "      <td>R$ 820</td>\n",
       "    </tr>\n",
       "    <tr>\n",
       "      <th>5</th>\n",
       "      <td>Apartamento com 3 Quartos à Venda, 145m²</td>\n",
       "      <td>SQSW 306 Bloco F, 01 - Setor Sudoeste, Brasíli...</td>\n",
       "      <td>145</td>\n",
       "      <td>3</td>\n",
       "      <td>3</td>\n",
       "      <td>2</td>\n",
       "      <td>R$ 1.900.000</td>\n",
       "      <td>R$ 1.290</td>\n",
       "    </tr>\n",
       "    <tr>\n",
       "      <th>6</th>\n",
       "      <td>Apartamento com 2 Quartos à Venda, 82m²</td>\n",
       "      <td>CCSW 4 Lote 5 Bloco B, 306 - Setor Sudoeste, B...</td>\n",
       "      <td>82</td>\n",
       "      <td>2</td>\n",
       "      <td>1</td>\n",
       "      <td>2</td>\n",
       "      <td>R$ 1.050.000</td>\n",
       "      <td>R$ 733</td>\n",
       "    </tr>\n",
       "    <tr>\n",
       "      <th>7</th>\n",
       "      <td>Apartamento com  Quarto à Venda, 57m²</td>\n",
       "      <td>QRSW 2 Bloco A-10, 10 - Setor Sudoeste, Brasíl...</td>\n",
       "      <td>57</td>\n",
       "      <td>1</td>\n",
       "      <td>1</td>\n",
       "      <td>None</td>\n",
       "      <td>R$ 530.000</td>\n",
       "      <td>None</td>\n",
       "    </tr>\n",
       "    <tr>\n",
       "      <th>8</th>\n",
       "      <td>Parque dos Cedros</td>\n",
       "      <td>SQNW 306 Bloco A, s/n - Setor Noroeste, Brasíl...</td>\n",
       "      <td>165</td>\n",
       "      <td>4</td>\n",
       "      <td>6</td>\n",
       "      <td>4</td>\n",
       "      <td>R$ 2.671.312</td>\n",
       "      <td>None</td>\n",
       "    </tr>\n",
       "    <tr>\n",
       "      <th>9</th>\n",
       "      <td>Apartamento com 4 Quartos à Venda, 144m²</td>\n",
       "      <td>SQSW 500, 5 - Setor Sudoeste, Brasília - DF</td>\n",
       "      <td>144</td>\n",
       "      <td>4</td>\n",
       "      <td>5</td>\n",
       "      <td>3</td>\n",
       "      <td>R$ 2.115.314</td>\n",
       "      <td>None</td>\n",
       "    </tr>\n",
       "    <tr>\n",
       "      <th>10</th>\n",
       "      <td>Apartamento com 3 Quartos à Venda, 102m²</td>\n",
       "      <td>SQSW 304 Bloco D, 304 - Setor Sudoeste, Brasíl...</td>\n",
       "      <td>102</td>\n",
       "      <td>3</td>\n",
       "      <td>3</td>\n",
       "      <td>1</td>\n",
       "      <td>R$ 1.200.000</td>\n",
       "      <td>R$ 711</td>\n",
       "    </tr>\n",
       "    <tr>\n",
       "      <th>11</th>\n",
       "      <td>Apartamento com 2 Quartos à Venda, 68m²</td>\n",
       "      <td>CCSW 3, 3 - Setor Sudoeste, Brasília - DF</td>\n",
       "      <td>68</td>\n",
       "      <td>2</td>\n",
       "      <td>2</td>\n",
       "      <td>1</td>\n",
       "      <td>R$ 935.000</td>\n",
       "      <td>R$ 733</td>\n",
       "    </tr>\n",
       "    <tr>\n",
       "      <th>12</th>\n",
       "      <td>Apartamento com  Quarto à Venda, 36m²</td>\n",
       "      <td>QRSW 4, 4 - Setor Sudoeste, Brasília - DF</td>\n",
       "      <td>36</td>\n",
       "      <td>1</td>\n",
       "      <td>1</td>\n",
       "      <td>None</td>\n",
       "      <td>R$ 289.000</td>\n",
       "      <td>R$ 380</td>\n",
       "    </tr>\n",
       "    <tr>\n",
       "      <th>13</th>\n",
       "      <td>Apartamento com 2 Quartos à Venda, 68m²</td>\n",
       "      <td>CCSW 3 - Setor Sudoeste, Brasília - DF</td>\n",
       "      <td>68</td>\n",
       "      <td>2</td>\n",
       "      <td>2</td>\n",
       "      <td>1</td>\n",
       "      <td>R$ 950.000</td>\n",
       "      <td>R$ 730</td>\n",
       "    </tr>\n",
       "    <tr>\n",
       "      <th>14</th>\n",
       "      <td>Apartamento com 2 Quartos à Venda, 77m²</td>\n",
       "      <td>SQSW 104 Bloco G, 0 - Setor Sudoeste, Brasília...</td>\n",
       "      <td>77</td>\n",
       "      <td>2</td>\n",
       "      <td>2</td>\n",
       "      <td>1</td>\n",
       "      <td>R$ 1.025.000</td>\n",
       "      <td>None</td>\n",
       "    </tr>\n",
       "    <tr>\n",
       "      <th>15</th>\n",
       "      <td>Parque das Figueiras</td>\n",
       "      <td>SQNW 103 Bloco G, SQNW 103 - Setor Noroeste, B...</td>\n",
       "      <td>102</td>\n",
       "      <td>3</td>\n",
       "      <td>4</td>\n",
       "      <td>2</td>\n",
       "      <td>R$ 1.552.660</td>\n",
       "      <td>None</td>\n",
       "    </tr>\n",
       "    <tr>\n",
       "      <th>16</th>\n",
       "      <td>Apartamento com 4 Quartos à Venda, 244m²</td>\n",
       "      <td>SQSW 500, 7 - Setor Sudoeste, Brasília - DF</td>\n",
       "      <td>244</td>\n",
       "      <td>4</td>\n",
       "      <td>6</td>\n",
       "      <td>4</td>\n",
       "      <td>R$ 3.454.653</td>\n",
       "      <td>None</td>\n",
       "    </tr>\n",
       "    <tr>\n",
       "      <th>17</th>\n",
       "      <td>Apartamento com  Quarto à Venda, 29m²</td>\n",
       "      <td>Setor Sudoeste, Brasília - DF</td>\n",
       "      <td>29</td>\n",
       "      <td>1</td>\n",
       "      <td>1</td>\n",
       "      <td>1</td>\n",
       "      <td>R$ 290.000</td>\n",
       "      <td>None</td>\n",
       "    </tr>\n",
       "    <tr>\n",
       "      <th>18</th>\n",
       "      <td>Apartamento com 5 Quartos à Venda, 256m²</td>\n",
       "      <td>SQSW 102 Bloco B, 2 - Setor Sudoeste, Brasília...</td>\n",
       "      <td>256</td>\n",
       "      <td>5</td>\n",
       "      <td>3</td>\n",
       "      <td>2</td>\n",
       "      <td>R$ 3.000.000</td>\n",
       "      <td>R$ 2.500</td>\n",
       "    </tr>\n",
       "    <tr>\n",
       "      <th>19</th>\n",
       "      <td>Apartamento com 2 Quartos à Venda, 77m²</td>\n",
       "      <td>SQSW 105 Bloco D, 1 - Setor Sudoeste, Brasília...</td>\n",
       "      <td>77</td>\n",
       "      <td>2</td>\n",
       "      <td>3</td>\n",
       "      <td>1</td>\n",
       "      <td>R$ 877.000</td>\n",
       "      <td>R$ 1.100</td>\n",
       "    </tr>\n",
       "  </tbody>\n",
       "</table>\n",
       "</div>"
      ],
      "text/plain": [
       "                                   descricao  \\\n",
       "0   Apartamento com 4 Quartos à Venda, 146m²   \n",
       "1                              Haus by Novka   \n",
       "2    Apartamento com 2 Quartos à Venda, 90m²   \n",
       "3    Apartamento com 3 Quartos à Venda, 90m²   \n",
       "4    Apartamento com 3 Quartos à Venda, 90m²   \n",
       "5   Apartamento com 3 Quartos à Venda, 145m²   \n",
       "6    Apartamento com 2 Quartos à Venda, 82m²   \n",
       "7      Apartamento com  Quarto à Venda, 57m²   \n",
       "8                          Parque dos Cedros   \n",
       "9   Apartamento com 4 Quartos à Venda, 144m²   \n",
       "10  Apartamento com 3 Quartos à Venda, 102m²   \n",
       "11   Apartamento com 2 Quartos à Venda, 68m²   \n",
       "12     Apartamento com  Quarto à Venda, 36m²   \n",
       "13   Apartamento com 2 Quartos à Venda, 68m²   \n",
       "14   Apartamento com 2 Quartos à Venda, 77m²   \n",
       "15                      Parque das Figueiras   \n",
       "16  Apartamento com 4 Quartos à Venda, 244m²   \n",
       "17     Apartamento com  Quarto à Venda, 29m²   \n",
       "18  Apartamento com 5 Quartos à Venda, 256m²   \n",
       "19   Apartamento com 2 Quartos à Venda, 77m²   \n",
       "\n",
       "                                             endereco metragem quartos  \\\n",
       "0   SQSW 300 Bloco B, 506 - Setor Sudoeste, Brasíl...      146       4   \n",
       "1   Parque Recreativo Sarah Kubitschek, - - Asa Su...     None    None   \n",
       "2   SQSW 101 Bloco H, 101 - Setor Sudoeste, Brasíl...       90       2   \n",
       "3   SQSW 100 Bloco F, 603 - Setor Sudoeste, Brasíl...       90       3   \n",
       "4   SQSW 100 Bloco D, 1 - Setor Sudoeste, Brasília...       90       3   \n",
       "5   SQSW 306 Bloco F, 01 - Setor Sudoeste, Brasíli...      145       3   \n",
       "6   CCSW 4 Lote 5 Bloco B, 306 - Setor Sudoeste, B...       82       2   \n",
       "7   QRSW 2 Bloco A-10, 10 - Setor Sudoeste, Brasíl...       57       1   \n",
       "8   SQNW 306 Bloco A, s/n - Setor Noroeste, Brasíl...      165       4   \n",
       "9         SQSW 500, 5 - Setor Sudoeste, Brasília - DF      144       4   \n",
       "10  SQSW 304 Bloco D, 304 - Setor Sudoeste, Brasíl...      102       3   \n",
       "11          CCSW 3, 3 - Setor Sudoeste, Brasília - DF       68       2   \n",
       "12          QRSW 4, 4 - Setor Sudoeste, Brasília - DF       36       1   \n",
       "13             CCSW 3 - Setor Sudoeste, Brasília - DF       68       2   \n",
       "14  SQSW 104 Bloco G, 0 - Setor Sudoeste, Brasília...       77       2   \n",
       "15  SQNW 103 Bloco G, SQNW 103 - Setor Noroeste, B...      102       3   \n",
       "16        SQSW 500, 7 - Setor Sudoeste, Brasília - DF      244       4   \n",
       "17                      Setor Sudoeste, Brasília - DF       29       1   \n",
       "18  SQSW 102 Bloco B, 2 - Setor Sudoeste, Brasília...      256       5   \n",
       "19  SQSW 105 Bloco D, 1 - Setor Sudoeste, Brasília...       77       2   \n",
       "\n",
       "   banheiro vagas         valor  condominio  \n",
       "0         5     2  R$ 2.250.000    R$ 1.200  \n",
       "1      None     1  Sob Consulta        None  \n",
       "2         2     1  R$ 1.300.000        None  \n",
       "3         1     1  R$ 1.165.000  R$ 800.000  \n",
       "4         3     1  R$ 1.255.000      R$ 820  \n",
       "5         3     2  R$ 1.900.000    R$ 1.290  \n",
       "6         1     2  R$ 1.050.000      R$ 733  \n",
       "7         1  None    R$ 530.000        None  \n",
       "8         6     4  R$ 2.671.312        None  \n",
       "9         5     3  R$ 2.115.314        None  \n",
       "10        3     1  R$ 1.200.000      R$ 711  \n",
       "11        2     1    R$ 935.000      R$ 733  \n",
       "12        1  None    R$ 289.000      R$ 380  \n",
       "13        2     1    R$ 950.000      R$ 730  \n",
       "14        2     1  R$ 1.025.000        None  \n",
       "15        4     2  R$ 1.552.660        None  \n",
       "16        6     4  R$ 3.454.653        None  \n",
       "17        1     1    R$ 290.000        None  \n",
       "18        3     2  R$ 3.000.000    R$ 2.500  \n",
       "19        3     1    R$ 877.000    R$ 1.100  "
      ]
     },
     "execution_count": 9,
     "metadata": {},
     "output_type": "execute_result"
    }
   ],
   "source": [
    "df.head(20)"
   ]
  },
  {
   "cell_type": "markdown",
   "metadata": {},
   "source": [
    "###### **Limpeza dos dados.**"
   ]
  },
  {
   "cell_type": "code",
   "execution_count": 10,
   "metadata": {},
   "outputs": [
    {
     "data": {
      "text/html": [
       "<div>\n",
       "<style scoped>\n",
       "    .dataframe tbody tr th:only-of-type {\n",
       "        vertical-align: middle;\n",
       "    }\n",
       "\n",
       "    .dataframe tbody tr th {\n",
       "        vertical-align: top;\n",
       "    }\n",
       "\n",
       "    .dataframe thead th {\n",
       "        text-align: right;\n",
       "    }\n",
       "</style>\n",
       "<table border=\"1\" class=\"dataframe\">\n",
       "  <thead>\n",
       "    <tr style=\"text-align: right;\">\n",
       "      <th></th>\n",
       "      <th>descricao</th>\n",
       "      <th>endereco</th>\n",
       "      <th>metragem</th>\n",
       "      <th>quartos</th>\n",
       "      <th>banheiro</th>\n",
       "      <th>vagas</th>\n",
       "      <th>valor</th>\n",
       "      <th>condominio</th>\n",
       "    </tr>\n",
       "  </thead>\n",
       "  <tbody>\n",
       "    <tr>\n",
       "      <th>0</th>\n",
       "      <td>Apartamento com 4 Quartos à Venda, 146m²</td>\n",
       "      <td>SQSW 300 Bloco B, 506 - Setor Sudoeste, Brasíl...</td>\n",
       "      <td>146</td>\n",
       "      <td>4</td>\n",
       "      <td>5</td>\n",
       "      <td>2</td>\n",
       "      <td>2.250.000</td>\n",
       "      <td>1.200</td>\n",
       "    </tr>\n",
       "    <tr>\n",
       "      <th>1</th>\n",
       "      <td>Haus by Novka</td>\n",
       "      <td>Parque Recreativo Sarah Kubitschek, - - Asa Su...</td>\n",
       "      <td>None</td>\n",
       "      <td>None</td>\n",
       "      <td>None</td>\n",
       "      <td>1</td>\n",
       "      <td>Sob Consulta</td>\n",
       "      <td>0.0</td>\n",
       "    </tr>\n",
       "  </tbody>\n",
       "</table>\n",
       "</div>"
      ],
      "text/plain": [
       "                                  descricao  \\\n",
       "0  Apartamento com 4 Quartos à Venda, 146m²   \n",
       "1                             Haus by Novka   \n",
       "\n",
       "                                            endereco metragem quartos  \\\n",
       "0  SQSW 300 Bloco B, 506 - Setor Sudoeste, Brasíl...      146       4   \n",
       "1  Parque Recreativo Sarah Kubitschek, - - Asa Su...     None    None   \n",
       "\n",
       "  banheiro vagas         valor condominio  \n",
       "0        5     2     2.250.000      1.200  \n",
       "1     None     1  Sob Consulta        0.0  "
      ]
     },
     "execution_count": 10,
     "metadata": {},
     "output_type": "execute_result"
    }
   ],
   "source": [
    "\n",
    "df['valor'] = df['valor'].apply(lambda x: x.replace('R$','').strip())\n",
    "df['condominio'] = df['condominio'].replace(np.nan, 'R$ 0.0')\n",
    "df['condominio'] = df['condominio'].apply(lambda x: x.replace('R$','').strip())\n",
    "#df['condominio'] = df['condominio'].apply(lambda x: x.replace('R$','').strip())\n",
    "\n",
    "df.head(2)"
   ]
  },
  {
   "cell_type": "code",
   "execution_count": 11,
   "metadata": {},
   "outputs": [
    {
     "data": {
      "text/plain": [
       "descricao     object\n",
       "endereco      object\n",
       "metragem      object\n",
       "quartos       object\n",
       "banheiro      object\n",
       "vagas         object\n",
       "valor         object\n",
       "condominio    object\n",
       "dtype: object"
      ]
     },
     "execution_count": 11,
     "metadata": {},
     "output_type": "execute_result"
    }
   ],
   "source": [
    "df.dtypes"
   ]
  },
  {
   "cell_type": "markdown",
   "metadata": {},
   "source": [
    "###### **Convertendo os tipos de valor e condomínio para float.** "
   ]
  },
  {
   "cell_type": "code",
   "execution_count": 12,
   "metadata": {},
   "outputs": [
    {
     "ename": "ValueError",
     "evalue": "could not convert string to float: 'Consulta'",
     "output_type": "error",
     "traceback": [
      "\u001b[0;31m---------------------------------------------------------------------------\u001b[0m",
      "\u001b[0;31mValueError\u001b[0m                                Traceback (most recent call last)",
      "\u001b[0;32m<ipython-input-12-5963252ceaea>\u001b[0m in \u001b[0;36m<module>\u001b[0;34m\u001b[0m\n\u001b[0;32m----> 1\u001b[0;31m \u001b[0mdf\u001b[0m\u001b[0;34m[\u001b[0m\u001b[0;34m'valor'\u001b[0m\u001b[0;34m]\u001b[0m \u001b[0;34m=\u001b[0m \u001b[0mdf\u001b[0m\u001b[0;34m[\u001b[0m\u001b[0;34m'valor'\u001b[0m\u001b[0;34m]\u001b[0m\u001b[0;34m.\u001b[0m\u001b[0mapply\u001b[0m\u001b[0;34m(\u001b[0m\u001b[0;32mlambda\u001b[0m \u001b[0mv\u001b[0m\u001b[0;34m:\u001b[0m \u001b[0mlocale\u001b[0m\u001b[0;34m.\u001b[0m\u001b[0matof\u001b[0m\u001b[0;34m(\u001b[0m\u001b[0mv\u001b[0m\u001b[0;34m.\u001b[0m\u001b[0msplit\u001b[0m\u001b[0;34m(\u001b[0m\u001b[0;34m)\u001b[0m\u001b[0;34m[\u001b[0m\u001b[0;34m-\u001b[0m\u001b[0;36m1\u001b[0m\u001b[0;34m]\u001b[0m\u001b[0;34m)\u001b[0m\u001b[0;34m)\u001b[0m\u001b[0;34m\u001b[0m\u001b[0;34m\u001b[0m\u001b[0m\n\u001b[0m\u001b[1;32m      2\u001b[0m \u001b[0mdf\u001b[0m\u001b[0;34m[\u001b[0m\u001b[0;34m'condominio'\u001b[0m\u001b[0;34m]\u001b[0m \u001b[0;34m=\u001b[0m \u001b[0mdf\u001b[0m\u001b[0;34m[\u001b[0m\u001b[0;34m'condominio'\u001b[0m\u001b[0;34m]\u001b[0m\u001b[0;34m.\u001b[0m\u001b[0mapply\u001b[0m\u001b[0;34m(\u001b[0m\u001b[0;32mlambda\u001b[0m \u001b[0mv\u001b[0m\u001b[0;34m:\u001b[0m \u001b[0mlocale\u001b[0m\u001b[0;34m.\u001b[0m\u001b[0matof\u001b[0m\u001b[0;34m(\u001b[0m\u001b[0mv\u001b[0m\u001b[0;34m.\u001b[0m\u001b[0msplit\u001b[0m\u001b[0;34m(\u001b[0m\u001b[0;34m)\u001b[0m\u001b[0;34m[\u001b[0m\u001b[0;34m-\u001b[0m\u001b[0;36m1\u001b[0m\u001b[0;34m]\u001b[0m\u001b[0;34m)\u001b[0m\u001b[0;34m)\u001b[0m\u001b[0;34m\u001b[0m\u001b[0;34m\u001b[0m\u001b[0m\n\u001b[1;32m      3\u001b[0m \u001b[0;34m\u001b[0m\u001b[0m\n\u001b[1;32m      4\u001b[0m \u001b[0mdf\u001b[0m\u001b[0;34m.\u001b[0m\u001b[0mhead\u001b[0m\u001b[0;34m(\u001b[0m\u001b[0;36m2\u001b[0m\u001b[0;34m)\u001b[0m\u001b[0;34m\u001b[0m\u001b[0;34m\u001b[0m\u001b[0m\n",
      "\u001b[0;32m~/anaconda3/lib/python3.8/site-packages/pandas/core/series.py\u001b[0m in \u001b[0;36mapply\u001b[0;34m(self, func, convert_dtype, args, **kwds)\u001b[0m\n\u001b[1;32m   4198\u001b[0m             \u001b[0;32melse\u001b[0m\u001b[0;34m:\u001b[0m\u001b[0;34m\u001b[0m\u001b[0;34m\u001b[0m\u001b[0m\n\u001b[1;32m   4199\u001b[0m                 \u001b[0mvalues\u001b[0m \u001b[0;34m=\u001b[0m \u001b[0mself\u001b[0m\u001b[0;34m.\u001b[0m\u001b[0mastype\u001b[0m\u001b[0;34m(\u001b[0m\u001b[0mobject\u001b[0m\u001b[0;34m)\u001b[0m\u001b[0;34m.\u001b[0m\u001b[0m_values\u001b[0m\u001b[0;34m\u001b[0m\u001b[0;34m\u001b[0m\u001b[0m\n\u001b[0;32m-> 4200\u001b[0;31m                 \u001b[0mmapped\u001b[0m \u001b[0;34m=\u001b[0m \u001b[0mlib\u001b[0m\u001b[0;34m.\u001b[0m\u001b[0mmap_infer\u001b[0m\u001b[0;34m(\u001b[0m\u001b[0mvalues\u001b[0m\u001b[0;34m,\u001b[0m \u001b[0mf\u001b[0m\u001b[0;34m,\u001b[0m \u001b[0mconvert\u001b[0m\u001b[0;34m=\u001b[0m\u001b[0mconvert_dtype\u001b[0m\u001b[0;34m)\u001b[0m\u001b[0;34m\u001b[0m\u001b[0;34m\u001b[0m\u001b[0m\n\u001b[0m\u001b[1;32m   4201\u001b[0m \u001b[0;34m\u001b[0m\u001b[0m\n\u001b[1;32m   4202\u001b[0m         \u001b[0;32mif\u001b[0m \u001b[0mlen\u001b[0m\u001b[0;34m(\u001b[0m\u001b[0mmapped\u001b[0m\u001b[0;34m)\u001b[0m \u001b[0;32mand\u001b[0m \u001b[0misinstance\u001b[0m\u001b[0;34m(\u001b[0m\u001b[0mmapped\u001b[0m\u001b[0;34m[\u001b[0m\u001b[0;36m0\u001b[0m\u001b[0;34m]\u001b[0m\u001b[0;34m,\u001b[0m \u001b[0mSeries\u001b[0m\u001b[0;34m)\u001b[0m\u001b[0;34m:\u001b[0m\u001b[0;34m\u001b[0m\u001b[0;34m\u001b[0m\u001b[0m\n",
      "\u001b[0;32mpandas/_libs/lib.pyx\u001b[0m in \u001b[0;36mpandas._libs.lib.map_infer\u001b[0;34m()\u001b[0m\n",
      "\u001b[0;32m<ipython-input-12-5963252ceaea>\u001b[0m in \u001b[0;36m<lambda>\u001b[0;34m(v)\u001b[0m\n\u001b[0;32m----> 1\u001b[0;31m \u001b[0mdf\u001b[0m\u001b[0;34m[\u001b[0m\u001b[0;34m'valor'\u001b[0m\u001b[0;34m]\u001b[0m \u001b[0;34m=\u001b[0m \u001b[0mdf\u001b[0m\u001b[0;34m[\u001b[0m\u001b[0;34m'valor'\u001b[0m\u001b[0;34m]\u001b[0m\u001b[0;34m.\u001b[0m\u001b[0mapply\u001b[0m\u001b[0;34m(\u001b[0m\u001b[0;32mlambda\u001b[0m \u001b[0mv\u001b[0m\u001b[0;34m:\u001b[0m \u001b[0mlocale\u001b[0m\u001b[0;34m.\u001b[0m\u001b[0matof\u001b[0m\u001b[0;34m(\u001b[0m\u001b[0mv\u001b[0m\u001b[0;34m.\u001b[0m\u001b[0msplit\u001b[0m\u001b[0;34m(\u001b[0m\u001b[0;34m)\u001b[0m\u001b[0;34m[\u001b[0m\u001b[0;34m-\u001b[0m\u001b[0;36m1\u001b[0m\u001b[0;34m]\u001b[0m\u001b[0;34m)\u001b[0m\u001b[0;34m)\u001b[0m\u001b[0;34m\u001b[0m\u001b[0;34m\u001b[0m\u001b[0m\n\u001b[0m\u001b[1;32m      2\u001b[0m \u001b[0mdf\u001b[0m\u001b[0;34m[\u001b[0m\u001b[0;34m'condominio'\u001b[0m\u001b[0;34m]\u001b[0m \u001b[0;34m=\u001b[0m \u001b[0mdf\u001b[0m\u001b[0;34m[\u001b[0m\u001b[0;34m'condominio'\u001b[0m\u001b[0;34m]\u001b[0m\u001b[0;34m.\u001b[0m\u001b[0mapply\u001b[0m\u001b[0;34m(\u001b[0m\u001b[0;32mlambda\u001b[0m \u001b[0mv\u001b[0m\u001b[0;34m:\u001b[0m \u001b[0mlocale\u001b[0m\u001b[0;34m.\u001b[0m\u001b[0matof\u001b[0m\u001b[0;34m(\u001b[0m\u001b[0mv\u001b[0m\u001b[0;34m.\u001b[0m\u001b[0msplit\u001b[0m\u001b[0;34m(\u001b[0m\u001b[0;34m)\u001b[0m\u001b[0;34m[\u001b[0m\u001b[0;34m-\u001b[0m\u001b[0;36m1\u001b[0m\u001b[0;34m]\u001b[0m\u001b[0;34m)\u001b[0m\u001b[0;34m)\u001b[0m\u001b[0;34m\u001b[0m\u001b[0;34m\u001b[0m\u001b[0m\n\u001b[1;32m      3\u001b[0m \u001b[0;34m\u001b[0m\u001b[0m\n\u001b[1;32m      4\u001b[0m \u001b[0mdf\u001b[0m\u001b[0;34m.\u001b[0m\u001b[0mhead\u001b[0m\u001b[0;34m(\u001b[0m\u001b[0;36m2\u001b[0m\u001b[0;34m)\u001b[0m\u001b[0;34m\u001b[0m\u001b[0;34m\u001b[0m\u001b[0m\n",
      "\u001b[0;32m~/anaconda3/lib/python3.8/locale.py\u001b[0m in \u001b[0;36matof\u001b[0;34m(string, func)\u001b[0m\n\u001b[1;32m    324\u001b[0m \u001b[0;32mdef\u001b[0m \u001b[0matof\u001b[0m\u001b[0;34m(\u001b[0m\u001b[0mstring\u001b[0m\u001b[0;34m,\u001b[0m \u001b[0mfunc\u001b[0m\u001b[0;34m=\u001b[0m\u001b[0mfloat\u001b[0m\u001b[0;34m)\u001b[0m\u001b[0;34m:\u001b[0m\u001b[0;34m\u001b[0m\u001b[0;34m\u001b[0m\u001b[0m\n\u001b[1;32m    325\u001b[0m     \u001b[0;34m\"Parses a string as a float according to the locale settings.\"\u001b[0m\u001b[0;34m\u001b[0m\u001b[0;34m\u001b[0m\u001b[0m\n\u001b[0;32m--> 326\u001b[0;31m     \u001b[0;32mreturn\u001b[0m \u001b[0mfunc\u001b[0m\u001b[0;34m(\u001b[0m\u001b[0mdelocalize\u001b[0m\u001b[0;34m(\u001b[0m\u001b[0mstring\u001b[0m\u001b[0;34m)\u001b[0m\u001b[0;34m)\u001b[0m\u001b[0;34m\u001b[0m\u001b[0;34m\u001b[0m\u001b[0m\n\u001b[0m\u001b[1;32m    327\u001b[0m \u001b[0;34m\u001b[0m\u001b[0m\n\u001b[1;32m    328\u001b[0m \u001b[0;32mdef\u001b[0m \u001b[0matoi\u001b[0m\u001b[0;34m(\u001b[0m\u001b[0mstring\u001b[0m\u001b[0;34m)\u001b[0m\u001b[0;34m:\u001b[0m\u001b[0;34m\u001b[0m\u001b[0;34m\u001b[0m\u001b[0m\n",
      "\u001b[0;31mValueError\u001b[0m: could not convert string to float: 'Consulta'"
     ]
    }
   ],
   "source": [
    "\n",
    "\n",
    "df['valor'] = df['valor'].apply(lambda v: locale.atof(v.split()[-1]))\n",
    "df['condominio'] = df['condominio'].apply(lambda v: locale.atof(v.split()[-1]))\n",
    "\n",
    "df.head(2)"
   ]
  },
  {
   "cell_type": "code",
   "execution_count": null,
   "metadata": {},
   "outputs": [],
   "source": [
    "df.to_csv('imoveis.csv', sep=',', index=False)"
   ]
  }
 ],
 "metadata": {
  "interpreter": {
   "hash": "1352c9e1a801731cba60e5df049202f8bb14b275a550f79fca2507db53e2ee0e"
  },
  "kernelspec": {
   "display_name": "Python 3.8.5 64-bit ('scraper': virtualenv)",
   "language": "python",
   "name": "python3"
  },
  "language_info": {
   "codemirror_mode": {
    "name": "ipython",
    "version": 3
   },
   "file_extension": ".py",
   "mimetype": "text/x-python",
   "name": "python",
   "nbconvert_exporter": "python",
   "pygments_lexer": "ipython3",
   "version": "3.8.5"
  },
  "orig_nbformat": 4
 },
 "nbformat": 4,
 "nbformat_minor": 2
}
